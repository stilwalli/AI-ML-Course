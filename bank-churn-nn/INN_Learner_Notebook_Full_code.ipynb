{
  "cells": [
    {
      "cell_type": "markdown",
      "metadata": {
        "id": "EoO7ROnuht51"
      },
      "source": [
        "<center><font size=6> Bank Churn Prediction </font></center>"
      ]
    },
    {
      "cell_type": "markdown",
      "metadata": {
        "id": "Q__obHNhdHtV"
      },
      "source": [
        "## Problem Statement"
      ]
    },
    {
      "cell_type": "markdown",
      "metadata": {
        "id": "WSyQJZSAaPA3"
      },
      "source": [
        "### Context"
      ]
    },
    {
      "cell_type": "markdown",
      "metadata": {
        "id": "vJQ5k8umdJdN"
      },
      "source": [
        "Businesses like banks which provide service have to worry about problem of 'Customer Churn' i.e. customers leaving and joining another service provider. It is important to understand which aspects of the service influence a customer's decision in this regard. Management can concentrate efforts on improvement of service, keeping in mind these priorities."
      ]
    },
    {
      "cell_type": "markdown",
      "metadata": {
        "id": "s749lpTNaRkN"
      },
      "source": [
        "### Objective"
      ]
    },
    {
      "cell_type": "markdown",
      "metadata": {
        "id": "XbrLMQQ6dKQU"
      },
      "source": [
        "You as a Data scientist with the  bank need to  build a neural network based classifier that can determine whether a customer will leave the bank  or not in the next 6 months."
      ]
    },
    {
      "cell_type": "markdown",
      "metadata": {
        "id": "Tsb28swdaVAs"
      },
      "source": [
        "### Data Dictionary"
      ]
    },
    {
      "cell_type": "markdown",
      "metadata": {
        "id": "-mquomUwdMol"
      },
      "source": [
        "* CustomerId: Unique ID which is assigned to each customer\n",
        "\n",
        "* Surname: Last name of the customer\n",
        "\n",
        "* CreditScore: It defines the credit history of the customer.\n",
        "  \n",
        "* Geography: A customer’s location\n",
        "   \n",
        "* Gender: It defines the Gender of the customer\n",
        "   \n",
        "* Age: Age of the customer\n",
        "    \n",
        "* Tenure: Number of years for which the customer has been with the bank\n",
        "\n",
        "* NumOfProducts: refers to the number of products that a customer has purchased through the bank.\n",
        "\n",
        "* Balance: Account balance\n",
        "\n",
        "* HasCrCard: It is a categorical variable which decides whether the customer has credit card or not.\n",
        "\n",
        "* EstimatedSalary: Estimated salary\n",
        "\n",
        "* isActiveMember: Is is a categorical variable which decides whether the customer is active member of the bank or not ( Active member in the sense, using bank products regularly, making transactions etc )\n",
        "\n",
        "* Exited : whether or not the customer left the bank within six month. It can take two values\n",
        "** 0=No ( Customer did not leave the bank )\n",
        "** 1=Yes ( Customer left the bank )"
      ]
    },
    {
      "cell_type": "markdown",
      "metadata": {
        "id": "FHHrSIl4c6Yn"
      },
      "source": [
        "## Importing necessary libraries"
      ]
    },
    {
      "cell_type": "code",
      "execution_count": 52,
      "metadata": {
        "id": "IfeZclzIHUNs"
      },
      "outputs": [
        {
          "name": "stdout",
          "output_type": "stream",
          "text": [
            "\n",
            "\u001b[1m[\u001b[0m\u001b[34;49mnotice\u001b[0m\u001b[1;39;49m]\u001b[0m\u001b[39;49m A new release of pip is available: \u001b[0m\u001b[31;49m24.0\u001b[0m\u001b[39;49m -> \u001b[0m\u001b[32;49m24.1.2\u001b[0m\n",
            "\u001b[1m[\u001b[0m\u001b[34;49mnotice\u001b[0m\u001b[1;39;49m]\u001b[0m\u001b[39;49m To update, run: \u001b[0m\u001b[32;49mpip install --upgrade pip\u001b[0m\n"
          ]
        }
      ],
      "source": [
        "# Installing the libraries with the specified version.\n",
        "!pip install tensorflow==2.15.0 scikit-learn==1.2.2 seaborn==0.13.1 matplotlib==3.7.1 numpy==1.25.2 pandas==2.0.3 imbalanced-learn==0.10.1 -q --user"
      ]
    },
    {
      "cell_type": "code",
      "execution_count": 128,
      "metadata": {},
      "outputs": [],
      "source": [
        "# Libraries to help with reading and manipulating data\n",
        "import pandas as pd\n",
        "import numpy as np\n",
        "\n",
        "# libaries to help with data visualization\n",
        "import matplotlib.pyplot as plt\n",
        "import seaborn as sns\n",
        "\n",
        "# Library to split data\n",
        "from sklearn.model_selection import train_test_split\n",
        "\n",
        "# library to import to standardize the data\n",
        "from sklearn.preprocessing import StandardScaler, LabelEncoder\n",
        "\n",
        "# importing different functions to build models\n",
        "import tensorflow as tf\n",
        "from tensorflow import keras\n",
        "from keras import backend\n",
        "from keras.models import Sequential\n",
        "from keras.layers import Dense, Dropout\n",
        "\n",
        "# importing SMOTE\n",
        "from imblearn.over_sampling import SMOTE\n",
        "\n",
        "# importing metrics\n",
        "from sklearn.metrics import confusion_matrix, f1_score,accuracy_score, recall_score, precision_score, classification_report\n",
        "\n",
        "import random\n",
        "\n",
        "# Library to avoid the warnings\n",
        "import warnings\n",
        "warnings.filterwarnings(\"ignore\")"
      ]
    },
    {
      "cell_type": "markdown",
      "metadata": {
        "id": "z7ubXtC8HUOA"
      },
      "source": [
        "## Loading the dataset"
      ]
    },
    {
      "cell_type": "code",
      "execution_count": 129,
      "metadata": {
        "id": "xGZLJmZUdkPq"
      },
      "outputs": [],
      "source": [
        "ds = pd.read_csv(\"bank-1.csv\")    # complete the code to load the dataset"
      ]
    },
    {
      "cell_type": "code",
      "execution_count": 130,
      "metadata": {},
      "outputs": [],
      "source": [
        "dsCopy = ds.copy()"
      ]
    },
    {
      "cell_type": "markdown",
      "metadata": {
        "id": "eRxrJ2MHd_Sf"
      },
      "source": [
        "## Data Overview"
      ]
    },
    {
      "cell_type": "code",
      "execution_count": 131,
      "metadata": {
        "id": "4sPbCEoLuQBk"
      },
      "outputs": [
        {
          "data": {
            "text/plain": [
              "(10000, 14)"
            ]
          },
          "execution_count": 131,
          "metadata": {},
          "output_type": "execute_result"
        }
      ],
      "source": [
        "dsCopy.shape"
      ]
    },
    {
      "cell_type": "markdown",
      "metadata": {},
      "source": [
        "Observation - This is 10,000 rows and 14 columns"
      ]
    },
    {
      "cell_type": "code",
      "execution_count": 132,
      "metadata": {},
      "outputs": [
        {
          "data": {
            "text/html": [
              "<div>\n",
              "<style scoped>\n",
              "    .dataframe tbody tr th:only-of-type {\n",
              "        vertical-align: middle;\n",
              "    }\n",
              "\n",
              "    .dataframe tbody tr th {\n",
              "        vertical-align: top;\n",
              "    }\n",
              "\n",
              "    .dataframe thead th {\n",
              "        text-align: right;\n",
              "    }\n",
              "</style>\n",
              "<table border=\"1\" class=\"dataframe\">\n",
              "  <thead>\n",
              "    <tr style=\"text-align: right;\">\n",
              "      <th></th>\n",
              "      <th>RowNumber</th>\n",
              "      <th>CustomerId</th>\n",
              "      <th>Surname</th>\n",
              "      <th>CreditScore</th>\n",
              "      <th>Geography</th>\n",
              "      <th>Gender</th>\n",
              "      <th>Age</th>\n",
              "      <th>Tenure</th>\n",
              "      <th>Balance</th>\n",
              "      <th>NumOfProducts</th>\n",
              "      <th>HasCrCard</th>\n",
              "      <th>IsActiveMember</th>\n",
              "      <th>EstimatedSalary</th>\n",
              "      <th>Exited</th>\n",
              "    </tr>\n",
              "  </thead>\n",
              "  <tbody>\n",
              "    <tr>\n",
              "      <th>0</th>\n",
              "      <td>1</td>\n",
              "      <td>15634602</td>\n",
              "      <td>Hargrave</td>\n",
              "      <td>619</td>\n",
              "      <td>France</td>\n",
              "      <td>Female</td>\n",
              "      <td>42</td>\n",
              "      <td>2</td>\n",
              "      <td>0.00</td>\n",
              "      <td>1</td>\n",
              "      <td>1</td>\n",
              "      <td>1</td>\n",
              "      <td>101348.88</td>\n",
              "      <td>1</td>\n",
              "    </tr>\n",
              "    <tr>\n",
              "      <th>1</th>\n",
              "      <td>2</td>\n",
              "      <td>15647311</td>\n",
              "      <td>Hill</td>\n",
              "      <td>608</td>\n",
              "      <td>Spain</td>\n",
              "      <td>Female</td>\n",
              "      <td>41</td>\n",
              "      <td>1</td>\n",
              "      <td>83807.86</td>\n",
              "      <td>1</td>\n",
              "      <td>0</td>\n",
              "      <td>1</td>\n",
              "      <td>112542.58</td>\n",
              "      <td>0</td>\n",
              "    </tr>\n",
              "    <tr>\n",
              "      <th>2</th>\n",
              "      <td>3</td>\n",
              "      <td>15619304</td>\n",
              "      <td>Onio</td>\n",
              "      <td>502</td>\n",
              "      <td>France</td>\n",
              "      <td>Female</td>\n",
              "      <td>42</td>\n",
              "      <td>8</td>\n",
              "      <td>159660.80</td>\n",
              "      <td>3</td>\n",
              "      <td>1</td>\n",
              "      <td>0</td>\n",
              "      <td>113931.57</td>\n",
              "      <td>1</td>\n",
              "    </tr>\n",
              "    <tr>\n",
              "      <th>3</th>\n",
              "      <td>4</td>\n",
              "      <td>15701354</td>\n",
              "      <td>Boni</td>\n",
              "      <td>699</td>\n",
              "      <td>France</td>\n",
              "      <td>Female</td>\n",
              "      <td>39</td>\n",
              "      <td>1</td>\n",
              "      <td>0.00</td>\n",
              "      <td>2</td>\n",
              "      <td>0</td>\n",
              "      <td>0</td>\n",
              "      <td>93826.63</td>\n",
              "      <td>0</td>\n",
              "    </tr>\n",
              "    <tr>\n",
              "      <th>4</th>\n",
              "      <td>5</td>\n",
              "      <td>15737888</td>\n",
              "      <td>Mitchell</td>\n",
              "      <td>850</td>\n",
              "      <td>Spain</td>\n",
              "      <td>Female</td>\n",
              "      <td>43</td>\n",
              "      <td>2</td>\n",
              "      <td>125510.82</td>\n",
              "      <td>1</td>\n",
              "      <td>1</td>\n",
              "      <td>1</td>\n",
              "      <td>79084.10</td>\n",
              "      <td>0</td>\n",
              "    </tr>\n",
              "  </tbody>\n",
              "</table>\n",
              "</div>"
            ],
            "text/plain": [
              "   RowNumber  CustomerId   Surname  CreditScore Geography  Gender  Age  \\\n",
              "0          1    15634602  Hargrave          619    France  Female   42   \n",
              "1          2    15647311      Hill          608     Spain  Female   41   \n",
              "2          3    15619304      Onio          502    France  Female   42   \n",
              "3          4    15701354      Boni          699    France  Female   39   \n",
              "4          5    15737888  Mitchell          850     Spain  Female   43   \n",
              "\n",
              "   Tenure    Balance  NumOfProducts  HasCrCard  IsActiveMember  \\\n",
              "0       2       0.00              1          1               1   \n",
              "1       1   83807.86              1          0               1   \n",
              "2       8  159660.80              3          1               0   \n",
              "3       1       0.00              2          0               0   \n",
              "4       2  125510.82              1          1               1   \n",
              "\n",
              "   EstimatedSalary  Exited  \n",
              "0        101348.88       1  \n",
              "1        112542.58       0  \n",
              "2        113931.57       1  \n",
              "3         93826.63       0  \n",
              "4         79084.10       0  "
            ]
          },
          "execution_count": 132,
          "metadata": {},
          "output_type": "execute_result"
        }
      ],
      "source": [
        "dsCopy.head(5)"
      ]
    },
    {
      "cell_type": "code",
      "execution_count": 133,
      "metadata": {},
      "outputs": [
        {
          "data": {
            "text/html": [
              "<div>\n",
              "<style scoped>\n",
              "    .dataframe tbody tr th:only-of-type {\n",
              "        vertical-align: middle;\n",
              "    }\n",
              "\n",
              "    .dataframe tbody tr th {\n",
              "        vertical-align: top;\n",
              "    }\n",
              "\n",
              "    .dataframe thead th {\n",
              "        text-align: right;\n",
              "    }\n",
              "</style>\n",
              "<table border=\"1\" class=\"dataframe\">\n",
              "  <thead>\n",
              "    <tr style=\"text-align: right;\">\n",
              "      <th></th>\n",
              "      <th>RowNumber</th>\n",
              "      <th>CustomerId</th>\n",
              "      <th>Surname</th>\n",
              "      <th>CreditScore</th>\n",
              "      <th>Geography</th>\n",
              "      <th>Gender</th>\n",
              "      <th>Age</th>\n",
              "      <th>Tenure</th>\n",
              "      <th>Balance</th>\n",
              "      <th>NumOfProducts</th>\n",
              "      <th>HasCrCard</th>\n",
              "      <th>IsActiveMember</th>\n",
              "      <th>EstimatedSalary</th>\n",
              "      <th>Exited</th>\n",
              "    </tr>\n",
              "  </thead>\n",
              "  <tbody>\n",
              "    <tr>\n",
              "      <th>9995</th>\n",
              "      <td>9996</td>\n",
              "      <td>15606229</td>\n",
              "      <td>Obijiaku</td>\n",
              "      <td>771</td>\n",
              "      <td>France</td>\n",
              "      <td>Male</td>\n",
              "      <td>39</td>\n",
              "      <td>5</td>\n",
              "      <td>0.00</td>\n",
              "      <td>2</td>\n",
              "      <td>1</td>\n",
              "      <td>0</td>\n",
              "      <td>96270.64</td>\n",
              "      <td>0</td>\n",
              "    </tr>\n",
              "    <tr>\n",
              "      <th>9996</th>\n",
              "      <td>9997</td>\n",
              "      <td>15569892</td>\n",
              "      <td>Johnstone</td>\n",
              "      <td>516</td>\n",
              "      <td>France</td>\n",
              "      <td>Male</td>\n",
              "      <td>35</td>\n",
              "      <td>10</td>\n",
              "      <td>57369.61</td>\n",
              "      <td>1</td>\n",
              "      <td>1</td>\n",
              "      <td>1</td>\n",
              "      <td>101699.77</td>\n",
              "      <td>0</td>\n",
              "    </tr>\n",
              "    <tr>\n",
              "      <th>9997</th>\n",
              "      <td>9998</td>\n",
              "      <td>15584532</td>\n",
              "      <td>Liu</td>\n",
              "      <td>709</td>\n",
              "      <td>France</td>\n",
              "      <td>Female</td>\n",
              "      <td>36</td>\n",
              "      <td>7</td>\n",
              "      <td>0.00</td>\n",
              "      <td>1</td>\n",
              "      <td>0</td>\n",
              "      <td>1</td>\n",
              "      <td>42085.58</td>\n",
              "      <td>1</td>\n",
              "    </tr>\n",
              "    <tr>\n",
              "      <th>9998</th>\n",
              "      <td>9999</td>\n",
              "      <td>15682355</td>\n",
              "      <td>Sabbatini</td>\n",
              "      <td>772</td>\n",
              "      <td>Germany</td>\n",
              "      <td>Male</td>\n",
              "      <td>42</td>\n",
              "      <td>3</td>\n",
              "      <td>75075.31</td>\n",
              "      <td>2</td>\n",
              "      <td>1</td>\n",
              "      <td>0</td>\n",
              "      <td>92888.52</td>\n",
              "      <td>1</td>\n",
              "    </tr>\n",
              "    <tr>\n",
              "      <th>9999</th>\n",
              "      <td>10000</td>\n",
              "      <td>15628319</td>\n",
              "      <td>Walker</td>\n",
              "      <td>792</td>\n",
              "      <td>France</td>\n",
              "      <td>Female</td>\n",
              "      <td>28</td>\n",
              "      <td>4</td>\n",
              "      <td>130142.79</td>\n",
              "      <td>1</td>\n",
              "      <td>1</td>\n",
              "      <td>0</td>\n",
              "      <td>38190.78</td>\n",
              "      <td>0</td>\n",
              "    </tr>\n",
              "  </tbody>\n",
              "</table>\n",
              "</div>"
            ],
            "text/plain": [
              "      RowNumber  CustomerId    Surname  CreditScore Geography  Gender  Age  \\\n",
              "9995       9996    15606229   Obijiaku          771    France    Male   39   \n",
              "9996       9997    15569892  Johnstone          516    France    Male   35   \n",
              "9997       9998    15584532        Liu          709    France  Female   36   \n",
              "9998       9999    15682355  Sabbatini          772   Germany    Male   42   \n",
              "9999      10000    15628319     Walker          792    France  Female   28   \n",
              "\n",
              "      Tenure    Balance  NumOfProducts  HasCrCard  IsActiveMember  \\\n",
              "9995       5       0.00              2          1               0   \n",
              "9996      10   57369.61              1          1               1   \n",
              "9997       7       0.00              1          0               1   \n",
              "9998       3   75075.31              2          1               0   \n",
              "9999       4  130142.79              1          1               0   \n",
              "\n",
              "      EstimatedSalary  Exited  \n",
              "9995         96270.64       0  \n",
              "9996        101699.77       0  \n",
              "9997         42085.58       1  \n",
              "9998         92888.52       1  \n",
              "9999         38190.78       0  "
            ]
          },
          "execution_count": 133,
          "metadata": {},
          "output_type": "execute_result"
        }
      ],
      "source": [
        "dsCopy.tail(5)"
      ]
    },
    {
      "cell_type": "code",
      "execution_count": 134,
      "metadata": {},
      "outputs": [
        {
          "name": "stdout",
          "output_type": "stream",
          "text": [
            "<class 'pandas.core.frame.DataFrame'>\n",
            "RangeIndex: 10000 entries, 0 to 9999\n",
            "Data columns (total 14 columns):\n",
            " #   Column           Non-Null Count  Dtype  \n",
            "---  ------           --------------  -----  \n",
            " 0   RowNumber        10000 non-null  int64  \n",
            " 1   CustomerId       10000 non-null  int64  \n",
            " 2   Surname          10000 non-null  object \n",
            " 3   CreditScore      10000 non-null  int64  \n",
            " 4   Geography        10000 non-null  object \n",
            " 5   Gender           10000 non-null  object \n",
            " 6   Age              10000 non-null  int64  \n",
            " 7   Tenure           10000 non-null  int64  \n",
            " 8   Balance          10000 non-null  float64\n",
            " 9   NumOfProducts    10000 non-null  int64  \n",
            " 10  HasCrCard        10000 non-null  int64  \n",
            " 11  IsActiveMember   10000 non-null  int64  \n",
            " 12  EstimatedSalary  10000 non-null  float64\n",
            " 13  Exited           10000 non-null  int64  \n",
            "dtypes: float64(2), int64(9), object(3)\n",
            "memory usage: 1.1+ MB\n"
          ]
        }
      ],
      "source": [
        "dsCopy.info()"
      ]
    },
    {
      "cell_type": "code",
      "execution_count": 135,
      "metadata": {},
      "outputs": [
        {
          "data": {
            "text/html": [
              "<div>\n",
              "<style scoped>\n",
              "    .dataframe tbody tr th:only-of-type {\n",
              "        vertical-align: middle;\n",
              "    }\n",
              "\n",
              "    .dataframe tbody tr th {\n",
              "        vertical-align: top;\n",
              "    }\n",
              "\n",
              "    .dataframe thead th {\n",
              "        text-align: right;\n",
              "    }\n",
              "</style>\n",
              "<table border=\"1\" class=\"dataframe\">\n",
              "  <thead>\n",
              "    <tr style=\"text-align: right;\">\n",
              "      <th></th>\n",
              "      <th>count</th>\n",
              "      <th>mean</th>\n",
              "      <th>std</th>\n",
              "      <th>min</th>\n",
              "      <th>25%</th>\n",
              "      <th>50%</th>\n",
              "      <th>75%</th>\n",
              "      <th>max</th>\n",
              "    </tr>\n",
              "  </thead>\n",
              "  <tbody>\n",
              "    <tr>\n",
              "      <th>RowNumber</th>\n",
              "      <td>10000.0</td>\n",
              "      <td>5.000500e+03</td>\n",
              "      <td>2886.895680</td>\n",
              "      <td>1.00</td>\n",
              "      <td>2500.75</td>\n",
              "      <td>5.000500e+03</td>\n",
              "      <td>7.500250e+03</td>\n",
              "      <td>10000.00</td>\n",
              "    </tr>\n",
              "    <tr>\n",
              "      <th>CustomerId</th>\n",
              "      <td>10000.0</td>\n",
              "      <td>1.569094e+07</td>\n",
              "      <td>71936.186123</td>\n",
              "      <td>15565701.00</td>\n",
              "      <td>15628528.25</td>\n",
              "      <td>1.569074e+07</td>\n",
              "      <td>1.575323e+07</td>\n",
              "      <td>15815690.00</td>\n",
              "    </tr>\n",
              "    <tr>\n",
              "      <th>CreditScore</th>\n",
              "      <td>10000.0</td>\n",
              "      <td>6.505288e+02</td>\n",
              "      <td>96.653299</td>\n",
              "      <td>350.00</td>\n",
              "      <td>584.00</td>\n",
              "      <td>6.520000e+02</td>\n",
              "      <td>7.180000e+02</td>\n",
              "      <td>850.00</td>\n",
              "    </tr>\n",
              "    <tr>\n",
              "      <th>Age</th>\n",
              "      <td>10000.0</td>\n",
              "      <td>3.892180e+01</td>\n",
              "      <td>10.487806</td>\n",
              "      <td>18.00</td>\n",
              "      <td>32.00</td>\n",
              "      <td>3.700000e+01</td>\n",
              "      <td>4.400000e+01</td>\n",
              "      <td>92.00</td>\n",
              "    </tr>\n",
              "    <tr>\n",
              "      <th>Tenure</th>\n",
              "      <td>10000.0</td>\n",
              "      <td>5.012800e+00</td>\n",
              "      <td>2.892174</td>\n",
              "      <td>0.00</td>\n",
              "      <td>3.00</td>\n",
              "      <td>5.000000e+00</td>\n",
              "      <td>7.000000e+00</td>\n",
              "      <td>10.00</td>\n",
              "    </tr>\n",
              "    <tr>\n",
              "      <th>Balance</th>\n",
              "      <td>10000.0</td>\n",
              "      <td>7.648589e+04</td>\n",
              "      <td>62397.405202</td>\n",
              "      <td>0.00</td>\n",
              "      <td>0.00</td>\n",
              "      <td>9.719854e+04</td>\n",
              "      <td>1.276442e+05</td>\n",
              "      <td>250898.09</td>\n",
              "    </tr>\n",
              "    <tr>\n",
              "      <th>NumOfProducts</th>\n",
              "      <td>10000.0</td>\n",
              "      <td>1.530200e+00</td>\n",
              "      <td>0.581654</td>\n",
              "      <td>1.00</td>\n",
              "      <td>1.00</td>\n",
              "      <td>1.000000e+00</td>\n",
              "      <td>2.000000e+00</td>\n",
              "      <td>4.00</td>\n",
              "    </tr>\n",
              "    <tr>\n",
              "      <th>HasCrCard</th>\n",
              "      <td>10000.0</td>\n",
              "      <td>7.055000e-01</td>\n",
              "      <td>0.455840</td>\n",
              "      <td>0.00</td>\n",
              "      <td>0.00</td>\n",
              "      <td>1.000000e+00</td>\n",
              "      <td>1.000000e+00</td>\n",
              "      <td>1.00</td>\n",
              "    </tr>\n",
              "    <tr>\n",
              "      <th>IsActiveMember</th>\n",
              "      <td>10000.0</td>\n",
              "      <td>5.151000e-01</td>\n",
              "      <td>0.499797</td>\n",
              "      <td>0.00</td>\n",
              "      <td>0.00</td>\n",
              "      <td>1.000000e+00</td>\n",
              "      <td>1.000000e+00</td>\n",
              "      <td>1.00</td>\n",
              "    </tr>\n",
              "    <tr>\n",
              "      <th>EstimatedSalary</th>\n",
              "      <td>10000.0</td>\n",
              "      <td>1.000902e+05</td>\n",
              "      <td>57510.492818</td>\n",
              "      <td>11.58</td>\n",
              "      <td>51002.11</td>\n",
              "      <td>1.001939e+05</td>\n",
              "      <td>1.493882e+05</td>\n",
              "      <td>199992.48</td>\n",
              "    </tr>\n",
              "    <tr>\n",
              "      <th>Exited</th>\n",
              "      <td>10000.0</td>\n",
              "      <td>2.037000e-01</td>\n",
              "      <td>0.402769</td>\n",
              "      <td>0.00</td>\n",
              "      <td>0.00</td>\n",
              "      <td>0.000000e+00</td>\n",
              "      <td>0.000000e+00</td>\n",
              "      <td>1.00</td>\n",
              "    </tr>\n",
              "  </tbody>\n",
              "</table>\n",
              "</div>"
            ],
            "text/plain": [
              "                   count          mean           std          min  \\\n",
              "RowNumber        10000.0  5.000500e+03   2886.895680         1.00   \n",
              "CustomerId       10000.0  1.569094e+07  71936.186123  15565701.00   \n",
              "CreditScore      10000.0  6.505288e+02     96.653299       350.00   \n",
              "Age              10000.0  3.892180e+01     10.487806        18.00   \n",
              "Tenure           10000.0  5.012800e+00      2.892174         0.00   \n",
              "Balance          10000.0  7.648589e+04  62397.405202         0.00   \n",
              "NumOfProducts    10000.0  1.530200e+00      0.581654         1.00   \n",
              "HasCrCard        10000.0  7.055000e-01      0.455840         0.00   \n",
              "IsActiveMember   10000.0  5.151000e-01      0.499797         0.00   \n",
              "EstimatedSalary  10000.0  1.000902e+05  57510.492818        11.58   \n",
              "Exited           10000.0  2.037000e-01      0.402769         0.00   \n",
              "\n",
              "                         25%           50%           75%          max  \n",
              "RowNumber            2500.75  5.000500e+03  7.500250e+03     10000.00  \n",
              "CustomerId       15628528.25  1.569074e+07  1.575323e+07  15815690.00  \n",
              "CreditScore           584.00  6.520000e+02  7.180000e+02       850.00  \n",
              "Age                    32.00  3.700000e+01  4.400000e+01        92.00  \n",
              "Tenure                  3.00  5.000000e+00  7.000000e+00        10.00  \n",
              "Balance                 0.00  9.719854e+04  1.276442e+05    250898.09  \n",
              "NumOfProducts           1.00  1.000000e+00  2.000000e+00         4.00  \n",
              "HasCrCard               0.00  1.000000e+00  1.000000e+00         1.00  \n",
              "IsActiveMember          0.00  1.000000e+00  1.000000e+00         1.00  \n",
              "EstimatedSalary     51002.11  1.001939e+05  1.493882e+05    199992.48  \n",
              "Exited                  0.00  0.000000e+00  0.000000e+00         1.00  "
            ]
          },
          "execution_count": 135,
          "metadata": {},
          "output_type": "execute_result"
        }
      ],
      "source": [
        "dsCopy.describe().T"
      ]
    },
    {
      "cell_type": "code",
      "execution_count": 136,
      "metadata": {},
      "outputs": [
        {
          "data": {
            "text/plain": [
              "RowNumber          0.0\n",
              "CustomerId         0.0\n",
              "Surname            0.0\n",
              "CreditScore        0.0\n",
              "Geography          0.0\n",
              "Gender             0.0\n",
              "Age                0.0\n",
              "Tenure             0.0\n",
              "Balance            0.0\n",
              "NumOfProducts      0.0\n",
              "HasCrCard          0.0\n",
              "IsActiveMember     0.0\n",
              "EstimatedSalary    0.0\n",
              "Exited             0.0\n",
              "dtype: float64"
            ]
          },
          "execution_count": 136,
          "metadata": {},
          "output_type": "execute_result"
        }
      ],
      "source": [
        "# let's check for missing values in the data\n",
        "round(dsCopy.isnull().sum() / dsCopy.isnull().count() * 100, 2)"
      ]
    },
    {
      "cell_type": "markdown",
      "metadata": {},
      "source": [
        "Observation: There are no missing values"
      ]
    },
    {
      "cell_type": "code",
      "execution_count": 137,
      "metadata": {},
      "outputs": [
        {
          "data": {
            "text/plain": [
              "RowNumber          10000\n",
              "CustomerId         10000\n",
              "Surname             2932\n",
              "CreditScore          460\n",
              "Geography              3\n",
              "Gender                 2\n",
              "Age                   70\n",
              "Tenure                11\n",
              "Balance             6382\n",
              "NumOfProducts          4\n",
              "HasCrCard              2\n",
              "IsActiveMember         2\n",
              "EstimatedSalary     9999\n",
              "Exited                 2\n",
              "dtype: int64"
            ]
          },
          "execution_count": 137,
          "metadata": {},
          "output_type": "execute_result"
        }
      ],
      "source": [
        "dsCopy.nunique()"
      ]
    },
    {
      "cell_type": "markdown",
      "metadata": {},
      "source": [
        "Observation: For category columns like Geography Gender, HasCrCredit, they are good candidates for one hot encoding."
      ]
    },
    {
      "cell_type": "markdown",
      "metadata": {},
      "source": [
        "Dropping colmns  - RowNumber, CustomerID. These columns are not needed. Will not have any impact on Exit Status."
      ]
    },
    {
      "cell_type": "markdown",
      "metadata": {
        "id": "W036jsgwRdVN"
      },
      "source": [
        "## Exploratory Data Analysis"
      ]
    },
    {
      "cell_type": "code",
      "execution_count": 138,
      "metadata": {
        "id": "g1Lxry70ibDw"
      },
      "outputs": [],
      "source": [
        "# function to plot a boxplot and a histogram along the same scale.\n",
        "\n",
        "\n",
        "def histogram_boxplot(data, feature, figsize=(12, 7), kde=False, bins=None):\n",
        "    \"\"\"\n",
        "    Boxplot and histogram combined\n",
        "\n",
        "    data: dataframe\n",
        "    feature: dataframe column\n",
        "    figsize: size of figure (default (12,7))\n",
        "    kde: whether to show the density curve (default False)\n",
        "    bins: number of bins for histogram (default None)\n",
        "    \"\"\"\n",
        "    f2, (ax_box2, ax_hist2) = plt.subplots(\n",
        "        nrows=2,  # Number of rows of the subplot grid= 2\n",
        "        sharex=True,  # x-axis will be shared among all subplots\n",
        "        gridspec_kw={\"height_ratios\": (0.25, 0.75)},\n",
        "        figsize=figsize,\n",
        "    )  # creating the 2 subplots\n",
        "    sns.boxplot(\n",
        "        data=data, x=feature, ax=ax_box2, showmeans=True, color=\"violet\"\n",
        "    )  # boxplot will be created and a star will indicate the mean value of the column\n",
        "    sns.histplot(\n",
        "        data=data, x=feature, kde=kde, ax=ax_hist2, bins=bins, palette=\"winter\"\n",
        "    ) if bins else sns.histplot(\n",
        "        data=data, x=feature, kde=kde, ax=ax_hist2\n",
        "    )  # For histogram\n",
        "    ax_hist2.axvline(\n",
        "        data[feature].mean(), color=\"green\", linestyle=\"--\"\n",
        "    )  # Add mean to the histogram\n",
        "    ax_hist2.axvline(\n",
        "        data[feature].median(), color=\"black\", linestyle=\"-\"\n",
        "    )  # Add median to the histogram"
      ]
    },
    {
      "cell_type": "code",
      "execution_count": 139,
      "metadata": {},
      "outputs": [],
      "source": [
        "# function to create labeled barplots\n",
        "\n",
        "\n",
        "def labeled_barplot(data, feature, perc=False, n=None):\n",
        "    \"\"\"\n",
        "    Barplot with percentage at the top\n",
        "\n",
        "    data: dataframe\n",
        "    feature: dataframe column\n",
        "    perc: whether to display percentages instead of count (default is False)\n",
        "    n: displays the top n category levels (default is None, i.e., display all levels)\n",
        "    \"\"\"\n",
        "\n",
        "    total = len(data[feature])  # length of the column\n",
        "    count = data[feature].nunique()\n",
        "    if n is None:\n",
        "        plt.figure(figsize=(count + 1, 5))\n",
        "    else:\n",
        "        plt.figure(figsize=(n + 1, 5))\n",
        "\n",
        "  \n",
        "\n",
        "    plt.xticks(rotation=90, fontsize=15)\n",
        "    ax = sns.countplot(\n",
        "        data=data,\n",
        "        x=feature,\n",
        "        palette=\"Paired\",\n",
        "        order=data[feature].value_counts().index[:n].sort_values(),\n",
        "    )\n",
        "\n",
        "    for p in ax.patches:\n",
        "        if perc == True:\n",
        "            label = \"{:.1f}%\".format(\n",
        "                100 * p.get_height() / total\n",
        "            )  # percentage of each class of the category\n",
        "        else:\n",
        "            label = p.get_height()  # count of each level of the category\n",
        "\n",
        "        x = p.get_x() + p.get_width() / 2  # width of the plot\n",
        "        y = p.get_height()  # height of the plot\n",
        "\n",
        "        ax.annotate(\n",
        "            label,\n",
        "            (x, y),\n",
        "            ha=\"center\",\n",
        "            va=\"center\",\n",
        "            size=12,\n",
        "            xytext=(0, 5),\n",
        "            textcoords=\"offset points\",\n",
        "        )  # annotate the percentage\n",
        "\n",
        "    plt.show()  # show the plot"
      ]
    },
    {
      "cell_type": "code",
      "execution_count": 140,
      "metadata": {},
      "outputs": [],
      "source": [
        "### Function to plot distributions\n",
        "\n",
        "\n",
        "def distribution_plot_wrt_target(data, predictor, target):\n",
        "\n",
        "    fig, axs = plt.subplots(2, 2, figsize=(12, 10))\n",
        "\n",
        "    target_uniq = data[target].unique()\n",
        "\n",
        "    axs[0, 0].set_title(\"Distribution of target for target=\" + str(target_uniq[0]))\n",
        "    sns.histplot(\n",
        "        data=data[data[target] == target_uniq[0]],\n",
        "        x=predictor,\n",
        "        kde=True,\n",
        "        ax=axs[0, 0],\n",
        "        color=\"teal\",\n",
        "    )\n",
        "\n",
        "    axs[0, 1].set_title(\"Distribution of target for target=\" + str(target_uniq[1]))\n",
        "    sns.histplot(\n",
        "        data=data[data[target] == target_uniq[1]],\n",
        "        x=predictor,\n",
        "        kde=True,\n",
        "        ax=axs[0, 1],\n",
        "        color=\"orange\",\n",
        "    )\n",
        "\n",
        "    axs[1, 0].set_title(\"Boxplot w.r.t target\")\n",
        "    sns.boxplot(data=data, x=target, y=predictor, ax=axs[1, 0], palette=\"gist_rainbow\")\n",
        "\n",
        "    axs[1, 1].set_title(\"Boxplot (without outliers) w.r.t target\")\n",
        "    sns.boxplot(\n",
        "        data=data,\n",
        "        x=target,\n",
        "        y=predictor,\n",
        "        ax=axs[1, 1],\n",
        "        showfliers=False,\n",
        "        palette=\"gist_rainbow\",\n",
        "    )\n",
        "\n",
        "    plt.tight_layout()\n",
        "    plt.show()"
      ]
    },
    {
      "cell_type": "code",
      "execution_count": 141,
      "metadata": {},
      "outputs": [],
      "source": [
        "# function to plot stacked bar chart\n",
        "\n",
        "\n",
        "def stacked_barplot(data, predictor, target):\n",
        "    \"\"\"\n",
        "    Print the category counts and plot a stacked bar chart\n",
        "\n",
        "    data: dataframe\n",
        "    predictor: independent variable\n",
        "    target: target variable\n",
        "    \"\"\"\n",
        "    count = data[predictor].nunique()\n",
        "    sorter = data[target].value_counts().index[-1]\n",
        "    tab1 = pd.crosstab(data[predictor], data[target], margins=True).sort_values(\n",
        "        by=sorter, ascending=False\n",
        "    )\n",
        "    print(tab1)\n",
        "    print(\"-\" * 120)\n",
        "    tab = pd.crosstab(data[predictor], data[target], normalize=\"index\").sort_values(\n",
        "        by=sorter, ascending=False\n",
        "    )\n",
        "    tab.plot(kind=\"bar\", stacked=True, figsize=(count + 1, 5))\n",
        "    plt.legend(\n",
        "        loc=\"lower left\",\n",
        "        frameon=False,\n",
        "    )\n",
        "    plt.legend(loc=\"upper left\", bbox_to_anchor=(1, 1))\n",
        "    plt.show()"
      ]
    },
    {
      "cell_type": "code",
      "execution_count": 142,
      "metadata": {},
      "outputs": [
        {
          "name": "stdout",
          "output_type": "stream",
          "text": [
            "Index(['RowNumber', 'CustomerId', 'Surname', 'CreditScore', 'Geography',\n",
            "       'Gender', 'Age', 'Tenure', 'Balance', 'NumOfProducts', 'HasCrCard',\n",
            "       'IsActiveMember', 'EstimatedSalary', 'Exited'],\n",
            "      dtype='object')\n",
            "**********\n",
            "RowNumber            int64\n",
            "CustomerId           int64\n",
            "Surname             object\n",
            "CreditScore          int64\n",
            "Geography           object\n",
            "Gender              object\n",
            "Age                  int64\n",
            "Tenure               int64\n",
            "Balance            float64\n",
            "NumOfProducts        int64\n",
            "HasCrCard            int64\n",
            "IsActiveMember       int64\n",
            "EstimatedSalary    float64\n",
            "Exited               int64\n",
            "dtype: object\n"
          ]
        }
      ],
      "source": [
        "print (dsCopy.columns)\n",
        "print (\"**********\")\n",
        "print (dsCopy.dtypes)"
      ]
    },
    {
      "cell_type": "markdown",
      "metadata": {},
      "source": [
        "### Univariate Analysis"
      ]
    },
    {
      "cell_type": "code",
      "execution_count": 143,
      "metadata": {},
      "outputs": [
        {
          "data": {
            "image/png": "[encoded data removed]",
            "text/plain": [
              "<Figure size 1200x700 with 2 Axes>"
            ]
          },
          "metadata": {},
          "output_type": "display_data"
        },
        {
          "data": {
            "image/png": "[encoded data removed]",
            "text/plain": [
              "<Figure size 1200x700 with 2 Axes>"
            ]
          },
          "metadata": {},
          "output_type": "display_data"
        },
        {
          "data": {
            "image/png": "[encoded data removed]",
            "text/plain": [
              "<Figure size 1200x700 with 2 Axes>"
            ]
          },
          "metadata": {},
          "output_type": "display_data"
        },
        {
          "data": {
            "image/png": "[encoded data removed]",
            "text/plain": [
              "<Figure size 1200x700 with 2 Axes>"
            ]
          },
          "metadata": {},
          "output_type": "display_data"
        }
      ],
      "source": [
        "#histogram_boxplot(ds,'CreditScore')\n",
        "import time\n",
        "string_array = [\"CreditScore\", \"Age\", \"Balance\", \"EstimatedSalary\"]\n",
        "\n",
        "for word in string_array:\n",
        "    histogram_boxplot(dsCopy, word)"
      ]
    },
    {
      "cell_type": "markdown",
      "metadata": {},
      "source": [
        "Observations:\n",
        "\n",
        "1. Credit Score is normally Distributed\n",
        "2. Age looks to be normally distributed. It also has lot of outliers."
      ]
    },
    {
      "cell_type": "code",
      "execution_count": 144,
      "metadata": {},
      "outputs": [
        {
          "data": {
            "image/png": "[encoded data removed]",
            "text/plain": [
              "<Figure size 300x500 with 1 Axes>"
            ]
          },
          "metadata": {},
          "output_type": "display_data"
        },
        {
          "data": {
            "image/png": "[encoded data removed]",
            "text/plain": [
              "<Figure size 400x500 with 1 Axes>"
            ]
          },
          "metadata": {},
          "output_type": "display_data"
        },
        {
          "data": {
            "image/png": "[encoded data removed]",
            "text/plain": [
              "<Figure size 300x500 with 1 Axes>"
            ]
          },
          "metadata": {},
          "output_type": "display_data"
        },
        {
          "data": {
            "image/png": "[encoded data removed]",
            "text/plain": [
              "<Figure size 1200x500 with 1 Axes>"
            ]
          },
          "metadata": {},
          "output_type": "display_data"
        },
        {
          "data": {
            "image/png": "[encoded data removed]",
            "text/plain": [
              "<Figure size 500x500 with 1 Axes>"
            ]
          },
          "metadata": {},
          "output_type": "display_data"
        },
        {
          "data": {
            "image/png": "[encoded data removed]",
            "text/plain": [
              "<Figure size 300x500 with 1 Axes>"
            ]
          },
          "metadata": {},
          "output_type": "display_data"
        },
        {
          "data": {
            "image/png": "[encoded data removed]",
            "text/plain": [
              "<Figure size 300x500 with 1 Axes>"
            ]
          },
          "metadata": {},
          "output_type": "display_data"
        }
      ],
      "source": [
        "#histogram_boxplot(ds,'CreditScore')\n",
        "import time\n",
        "string_array = [\"Exited\", \"Geography\", \"Gender\", \"Tenure\", \"NumOfProducts\", \"HasCrCard\", \"IsActiveMember\"]\n",
        "\n",
        "for word in string_array:\n",
        "    labeled_barplot(dsCopy, word)"
      ]
    },
    {
      "cell_type": "markdown",
      "metadata": {
        "id": "OlHTHF4glMxS"
      },
      "source": [
        "### Bivariate Analysis"
      ]
    },
    {
      "cell_type": "code",
      "execution_count": 145,
      "metadata": {
        "id": "y_pKBXS9lLel"
      },
      "outputs": [
        {
          "data": {
            "image/png": "[encoded data removed]",
            "text/plain": [
              "<Figure size 1500x700 with 2 Axes>"
            ]
          },
          "metadata": {},
          "output_type": "display_data"
        }
      ],
      "source": [
        "# defining the list of numerical columns\n",
        "cols_list = [\"CreditScore\",\"Age\",\"Tenure\",\"Balance\",\"EstimatedSalary\"]\n",
        "plt.figure(figsize=(15, 7))\n",
        "sns.heatmap(dsCopy[cols_list].corr(), annot=True, vmin=-1, vmax=1, fmt=\".2f\", cmap=\"Spectral\")\n",
        "plt.show()"
      ]
    },
    {
      "cell_type": "markdown",
      "metadata": {},
      "source": [
        "Observaton: Don't see lot of correlation"
      ]
    },
    {
      "cell_type": "code",
      "execution_count": 146,
      "metadata": {},
      "outputs": [
        {
          "name": "stdout",
          "output_type": "stream",
          "text": [
            "Exited        0     1    All\n",
            "Geography                   \n",
            "All        7963  2037  10000\n",
            "Germany    1695   814   2509\n",
            "France     4204   810   5014\n",
            "Spain      2064   413   2477\n",
            "------------------------------------------------------------------------------------------------------------------------\n"
          ]
        },
        {
          "data": {
            "image/png": "[encoded data removed]",
            "text/plain": [
              "<Figure size 400x500 with 1 Axes>"
            ]
          },
          "metadata": {},
          "output_type": "display_data"
        }
      ],
      "source": [
        "stacked_barplot(dsCopy, \"Geography\", \"Exited\" )"
      ]
    },
    {
      "cell_type": "markdown",
      "metadata": {},
      "source": [
        "Obervation: Not a lot of varition. But we can see that Germany has the most exits. But the numbers are too close to come to a conclusion."
      ]
    },
    {
      "cell_type": "code",
      "execution_count": 147,
      "metadata": {},
      "outputs": [
        {
          "name": "stdout",
          "output_type": "stream",
          "text": [
            "Exited     0     1    All\n",
            "Gender                   \n",
            "All     7963  2037  10000\n",
            "Female  3404  1139   4543\n",
            "Male    4559   898   5457\n",
            "------------------------------------------------------------------------------------------------------------------------\n"
          ]
        },
        {
          "data": {
            "image/png": "[encoded data removed]",
            "text/plain": [
              "<Figure size 300x500 with 1 Axes>"
            ]
          },
          "metadata": {},
          "output_type": "display_data"
        }
      ],
      "source": [
        "stacked_barplot(dsCopy, \"Gender\", \"Exited\" )"
      ]
    },
    {
      "cell_type": "markdown",
      "metadata": {},
      "source": [
        "Obervation: Not a lot of varition. "
      ]
    },
    {
      "cell_type": "code",
      "execution_count": 148,
      "metadata": {},
      "outputs": [
        {
          "name": "stdout",
          "output_type": "stream",
          "text": [
            "Exited        0     1    All\n",
            "HasCrCard                   \n",
            "All        7963  2037  10000\n",
            "1          5631  1424   7055\n",
            "0          2332   613   2945\n",
            "------------------------------------------------------------------------------------------------------------------------\n"
          ]
        },
        {
          "data": {
            "image/png": "[encoded data removed]",
            "text/plain": [
              "<Figure size 300x500 with 1 Axes>"
            ]
          },
          "metadata": {},
          "output_type": "display_data"
        }
      ],
      "source": [
        "stacked_barplot(dsCopy, \"HasCrCard\", \"Exited\" )"
      ]
    },
    {
      "cell_type": "markdown",
      "metadata": {},
      "source": [
        "Observation: Almost no variation"
      ]
    },
    {
      "cell_type": "code",
      "execution_count": 149,
      "metadata": {},
      "outputs": [
        {
          "name": "stdout",
          "output_type": "stream",
          "text": [
            "Exited             0     1    All\n",
            "IsActiveMember                   \n",
            "All             7963  2037  10000\n",
            "0               3547  1302   4849\n",
            "1               4416   735   5151\n",
            "------------------------------------------------------------------------------------------------------------------------\n"
          ]
        },
        {
          "data": {
            "image/png": "[encoded data removed]",
            "text/plain": [
              "<Figure size 300x500 with 1 Axes>"
            ]
          },
          "metadata": {},
          "output_type": "display_data"
        }
      ],
      "source": [
        "stacked_barplot(dsCopy, \"IsActiveMember\", \"Exited\" )"
      ]
    },
    {
      "cell_type": "markdown",
      "metadata": {},
      "source": [
        "Obervation: Not a lot of varition to come to an conclusion."
      ]
    },
    {
      "cell_type": "code",
      "execution_count": 150,
      "metadata": {},
      "outputs": [
        {
          "data": {
            "text/plain": [
              "<Axes: xlabel='Exited', ylabel='CreditScore'>"
            ]
          },
          "execution_count": 150,
          "metadata": {},
          "output_type": "execute_result"
        },
        {
          "data": {
            "image/png": "[encoded data removed]",
            "text/plain": [
              "<Figure size 640x480 with 1 Axes>"
            ]
          },
          "metadata": {},
          "output_type": "display_data"
        }
      ],
      "source": [
        "sns.boxplot(y='CreditScore',x='Exited',data=dsCopy)\n"
      ]
    },
    {
      "cell_type": "code",
      "execution_count": 151,
      "metadata": {},
      "outputs": [
        {
          "data": {
            "text/plain": [
              "<Axes: xlabel='Exited', ylabel='Age'>"
            ]
          },
          "execution_count": 151,
          "metadata": {},
          "output_type": "execute_result"
        },
        {
          "data": {
            "image/png": "[encoded data removed]",
            "text/plain": [
              "<Figure size 640x480 with 1 Axes>"
            ]
          },
          "metadata": {},
          "output_type": "display_data"
        }
      ],
      "source": [
        "sns.boxplot(y='Age',x='Exited',data=dsCopy)\n"
      ]
    },
    {
      "cell_type": "code",
      "execution_count": 152,
      "metadata": {},
      "outputs": [
        {
          "data": {
            "text/plain": [
              "<Axes: xlabel='Exited', ylabel='Tenure'>"
            ]
          },
          "execution_count": 152,
          "metadata": {},
          "output_type": "execute_result"
        },
        {
          "data": {
            "image/png": "[encoded data removed]",
            "text/plain": [
              "<Figure size 640x480 with 1 Axes>"
            ]
          },
          "metadata": {},
          "output_type": "display_data"
        }
      ],
      "source": [
        "sns.boxplot(y='Tenure',x='Exited',data=dsCopy)"
      ]
    },
    {
      "cell_type": "code",
      "execution_count": 153,
      "metadata": {},
      "outputs": [
        {
          "data": {
            "text/plain": [
              "<Axes: xlabel='Exited', ylabel='Balance'>"
            ]
          },
          "execution_count": 153,
          "metadata": {},
          "output_type": "execute_result"
        },
        {
          "data": {
            "image/png": "[encoded data removed]",
            "text/plain": [
              "<Figure size 640x480 with 1 Axes>"
            ]
          },
          "metadata": {},
          "output_type": "display_data"
        }
      ],
      "source": [
        "sns.boxplot(y='Balance',x='Exited',data=ds)"
      ]
    },
    {
      "cell_type": "code",
      "execution_count": 154,
      "metadata": {},
      "outputs": [
        {
          "data": {
            "text/plain": [
              "<Axes: xlabel='Exited', ylabel='EstimatedSalary'>"
            ]
          },
          "execution_count": 154,
          "metadata": {},
          "output_type": "execute_result"
        },
        {
          "data": {
            "image/png": "[encoded data removed]",
            "text/plain": [
              "<Figure size 640x480 with 1 Axes>"
            ]
          },
          "metadata": {},
          "output_type": "display_data"
        }
      ],
      "source": [
        "sns.boxplot(y='EstimatedSalary',x='Exited',data=dsCopy)"
      ]
    },
    {
      "cell_type": "code",
      "execution_count": 155,
      "metadata": {},
      "outputs": [
        {
          "data": {
            "text/plain": [
              "<Axes: xlabel='Exited', ylabel='NumOfProducts'>"
            ]
          },
          "execution_count": 155,
          "metadata": {},
          "output_type": "execute_result"
        },
        {
          "data": {
            "image/png": "[encoded data removed]",
            "text/plain": [
              "<Figure size 640x480 with 1 Axes>"
            ]
          },
          "metadata": {},
          "output_type": "display_data"
        }
      ],
      "source": [
        "sns.boxplot(y='NumOfProducts',x='Exited',data=dsCopy)"
      ]
    },
    {
      "cell_type": "markdown",
      "metadata": {
        "id": "CUXPaUwZHUO8"
      },
      "source": [
        "## Data Preprocessing"
      ]
    },
    {
      "cell_type": "markdown",
      "metadata": {},
      "source": [
        "## Separating Independent and Dependent Columns"
      ]
    },
    {
      "cell_type": "code",
      "execution_count": 156,
      "metadata": {},
      "outputs": [],
      "source": [
        "## Separating Independent and Dependent Columns\n",
        "X = ds.drop(['Exited'],axis=1) # Credit Score through Estimated Salary\n",
        "Y = ds['Exited'] # Exited"
      ]
    },
    {
      "cell_type": "markdown",
      "metadata": {},
      "source": [
        "### Dummy Variable Creation"
      ]
    },
    {
      "cell_type": "code",
      "execution_count": 157,
      "metadata": {},
      "outputs": [],
      "source": [
        "# Encoding the categorical variables using one-hot encoding\n",
        "X = pd.get_dummies(\n",
        "    X,\n",
        "    columns=[\"Gender\", \"Geography\", \"HasCrCard\", \"IsActiveMember\"],\n",
        "    drop_first=True,dtype=float\n",
        ")"
      ]
    },
    {
      "cell_type": "markdown",
      "metadata": {},
      "source": [
        "### Data Normalization"
      ]
    },
    {
      "cell_type": "code",
      "execution_count": 158,
      "metadata": {},
      "outputs": [],
      "source": [
        "#Standardizing the numerical variables to zero mean and unit variance.\n",
        "transformer = StandardScaler()\n",
        "X[[\"CreditScore\", \"Age\", \"Tenure\", \"Balance\", \"NumOfProducts\", \"EstimatedSalary\"]] = transformer.fit_transform(X[[\"CreditScore\", \"Age\", \"Tenure\", \"Balance\", \"NumOfProducts\", \"EstimatedSalary\"]])"
      ]
    },
    {
      "cell_type": "markdown",
      "metadata": {},
      "source": [
        "### Unwanted Column Deletion"
      ]
    },
    {
      "cell_type": "code",
      "execution_count": 159,
      "metadata": {},
      "outputs": [],
      "source": [
        "#RowNumber , CustomerId and Surname are unique hence dropping it\n",
        "X = X.drop(['RowNumber', 'CustomerId', 'Surname'], axis=1)"
      ]
    },
    {
      "cell_type": "code",
      "execution_count": 160,
      "metadata": {},
      "outputs": [
        {
          "data": {
            "text/html": [
              "<div>\n",
              "<style scoped>\n",
              "    .dataframe tbody tr th:only-of-type {\n",
              "        vertical-align: middle;\n",
              "    }\n",
              "\n",
              "    .dataframe tbody tr th {\n",
              "        vertical-align: top;\n",
              "    }\n",
              "\n",
              "    .dataframe thead th {\n",
              "        text-align: right;\n",
              "    }\n",
              "</style>\n",
              "<table border=\"1\" class=\"dataframe\">\n",
              "  <thead>\n",
              "    <tr style=\"text-align: right;\">\n",
              "      <th></th>\n",
              "      <th>CreditScore</th>\n",
              "      <th>Age</th>\n",
              "      <th>Tenure</th>\n",
              "      <th>Balance</th>\n",
              "      <th>NumOfProducts</th>\n",
              "      <th>EstimatedSalary</th>\n",
              "      <th>Gender_Male</th>\n",
              "      <th>Geography_Germany</th>\n",
              "      <th>Geography_Spain</th>\n",
              "      <th>HasCrCard_1</th>\n",
              "      <th>IsActiveMember_1</th>\n",
              "    </tr>\n",
              "  </thead>\n",
              "  <tbody>\n",
              "    <tr>\n",
              "      <th>0</th>\n",
              "      <td>-0.326221</td>\n",
              "      <td>0.293517</td>\n",
              "      <td>-1.041760</td>\n",
              "      <td>-1.225848</td>\n",
              "      <td>-0.911583</td>\n",
              "      <td>0.021886</td>\n",
              "      <td>0.0</td>\n",
              "      <td>0.0</td>\n",
              "      <td>0.0</td>\n",
              "      <td>1.0</td>\n",
              "      <td>1.0</td>\n",
              "    </tr>\n",
              "    <tr>\n",
              "      <th>1</th>\n",
              "      <td>-0.440036</td>\n",
              "      <td>0.198164</td>\n",
              "      <td>-1.387538</td>\n",
              "      <td>0.117350</td>\n",
              "      <td>-0.911583</td>\n",
              "      <td>0.216534</td>\n",
              "      <td>0.0</td>\n",
              "      <td>0.0</td>\n",
              "      <td>1.0</td>\n",
              "      <td>0.0</td>\n",
              "      <td>1.0</td>\n",
              "    </tr>\n",
              "    <tr>\n",
              "      <th>2</th>\n",
              "      <td>-1.536794</td>\n",
              "      <td>0.293517</td>\n",
              "      <td>1.032908</td>\n",
              "      <td>1.333053</td>\n",
              "      <td>2.527057</td>\n",
              "      <td>0.240687</td>\n",
              "      <td>0.0</td>\n",
              "      <td>0.0</td>\n",
              "      <td>0.0</td>\n",
              "      <td>1.0</td>\n",
              "      <td>0.0</td>\n",
              "    </tr>\n",
              "    <tr>\n",
              "      <th>3</th>\n",
              "      <td>0.501521</td>\n",
              "      <td>0.007457</td>\n",
              "      <td>-1.387538</td>\n",
              "      <td>-1.225848</td>\n",
              "      <td>0.807737</td>\n",
              "      <td>-0.108918</td>\n",
              "      <td>0.0</td>\n",
              "      <td>0.0</td>\n",
              "      <td>0.0</td>\n",
              "      <td>0.0</td>\n",
              "      <td>0.0</td>\n",
              "    </tr>\n",
              "    <tr>\n",
              "      <th>4</th>\n",
              "      <td>2.063884</td>\n",
              "      <td>0.388871</td>\n",
              "      <td>-1.041760</td>\n",
              "      <td>0.785728</td>\n",
              "      <td>-0.911583</td>\n",
              "      <td>-0.365276</td>\n",
              "      <td>0.0</td>\n",
              "      <td>0.0</td>\n",
              "      <td>1.0</td>\n",
              "      <td>1.0</td>\n",
              "      <td>1.0</td>\n",
              "    </tr>\n",
              "  </tbody>\n",
              "</table>\n",
              "</div>"
            ],
            "text/plain": [
              "   CreditScore       Age    Tenure   Balance  NumOfProducts  EstimatedSalary  \\\n",
              "0    -0.326221  0.293517 -1.041760 -1.225848      -0.911583         0.021886   \n",
              "1    -0.440036  0.198164 -1.387538  0.117350      -0.911583         0.216534   \n",
              "2    -1.536794  0.293517  1.032908  1.333053       2.527057         0.240687   \n",
              "3     0.501521  0.007457 -1.387538 -1.225848       0.807737        -0.108918   \n",
              "4     2.063884  0.388871 -1.041760  0.785728      -0.911583        -0.365276   \n",
              "\n",
              "   Gender_Male  Geography_Germany  Geography_Spain  HasCrCard_1  \\\n",
              "0          0.0                0.0              0.0          1.0   \n",
              "1          0.0                0.0              1.0          0.0   \n",
              "2          0.0                0.0              0.0          1.0   \n",
              "3          0.0                0.0              0.0          0.0   \n",
              "4          0.0                0.0              1.0          1.0   \n",
              "\n",
              "   IsActiveMember_1  \n",
              "0               1.0  \n",
              "1               1.0  \n",
              "2               0.0  \n",
              "3               0.0  \n",
              "4               1.0  "
            ]
          },
          "execution_count": 160,
          "metadata": {},
          "output_type": "execute_result"
        }
      ],
      "source": [
        "X.head(5)"
      ]
    },
    {
      "cell_type": "code",
      "execution_count": 161,
      "metadata": {},
      "outputs": [],
      "source": [
        "#X = np.asarray(X).astype(np.float32)"
      ]
    },
    {
      "cell_type": "markdown",
      "metadata": {
        "id": "wgpx0xlSTlzN"
      },
      "source": [
        "### Train-validation-test Split"
      ]
    },
    {
      "cell_type": "code",
      "execution_count": 162,
      "metadata": {},
      "outputs": [],
      "source": [
        "# Splitting the dataset into the Training and Test set.\n",
        "X_train, X_test, y_train, y_test = train_test_split(X,Y, test_size = 0.2, random_state = 42,stratify = Y)"
      ]
    },
    {
      "cell_type": "code",
      "execution_count": 163,
      "metadata": {},
      "outputs": [],
      "source": [
        "# Splitting the Train dataset into the Training and Validation set.\n",
        "X_train, X_valid, y_train, y_valid = train_test_split(X_train,y_train, test_size = 0.2, random_state = 42,stratify = y_train)\n"
      ]
    },
    {
      "cell_type": "code",
      "execution_count": 164,
      "metadata": {},
      "outputs": [
        {
          "name": "stdout",
          "output_type": "stream",
          "text": [
            "(6400, 11) (6400,)\n",
            "(1600, 11) (1600,)\n",
            "(2000, 11) (2000,)\n"
          ]
        }
      ],
      "source": [
        "#Printing the shapes.\n",
        "print(X_train.shape,y_train.shape)\n",
        "print(X_valid.shape,y_valid.shape)\n",
        "print(X_test.shape,y_test.shape)"
      ]
    },
    {
      "cell_type": "code",
      "execution_count": 165,
      "metadata": {},
      "outputs": [],
      "source": [
        "def plot(history, name):\n",
        "    \"\"\"\n",
        "    Function to plot loss/accuracy\n",
        "\n",
        "    history: an object which stores the metrics and losses.\n",
        "    name: can be one of Loss or Accuracy\n",
        "    \"\"\"\n",
        "    fig, ax = plt.subplots() #Creating a subplot with figure and axes.\n",
        "    plt.plot(history.history[name]) #Plotting the train accuracy or train loss\n",
        "    plt.plot(history.history['val_'+name]) #Plotting the validation accuracy or validation loss\n",
        "\n",
        "    plt.title('Model ' + name.capitalize()) #Defining the title of the plot.\n",
        "    plt.ylabel(name.capitalize()) #Capitalizing the first letter.\n",
        "    plt.xlabel('Epoch') #Defining the label for the x-axis.\n",
        "    fig.legend(['Train', 'Validation'], loc=\"outside right upper\") #Defining the legend, loc controls the position of the legend."
      ]
    },
    {
      "cell_type": "code",
      "execution_count": 166,
      "metadata": {},
      "outputs": [],
      "source": [
        "# defining a function to compute different metrics to check performance of a classification model built using statsmodels\n",
        "def model_performance_classification(model, predictors, target, threshold=0.5):\n",
        "    \"\"\"\n",
        "    Function to compute different metrics to check classification model performance\n",
        "\n",
        "    model: classifier\n",
        "    predictors: independent variables\n",
        "    target: dependent variable\n",
        "    threshold: threshold for classifying the observation as class 1\n",
        "    \"\"\"\n",
        "\n",
        "    # checking which probabilities are greater than threshold\n",
        "    pred = model.predict(predictors) > threshold\n",
        "    # pred_temp = model.predict(predictors) > threshold\n",
        "    # # rounding off the above values to get classes\n",
        "    # pred = np.round(pred_temp)\n",
        "\n",
        "    acc = accuracy_score(target, pred)  # to compute Accuracy\n",
        "    recall = recall_score(target, pred, average=\"weighted\")  # to compute Recall\n",
        "    precision = precision_score(\n",
        "        target, pred, average=\"weighted\"\n",
        "    )  # to compute Precision\n",
        "    f1 = f1_score(target, pred, average=\"weighted\")  # to compute F1-score\n",
        "\n",
        "    # creating a dataframe of metrics\n",
        "    df_perf = pd.DataFrame(\n",
        "        {\n",
        "            \"Accuracy\": acc,\n",
        "            \"Recall\": recall,\n",
        "            \"Precision\": precision,\n",
        "            \"F1 Score\": f1,\n",
        "        },\n",
        "        index=[0],\n",
        "    )\n",
        "\n",
        "    return df_perf"
      ]
    },
    {
      "cell_type": "code",
      "execution_count": 167,
      "metadata": {},
      "outputs": [],
      "source": [
        "def make_confusion_matrix(actual_targets, predicted_targets):\n",
        "    \"\"\"\n",
        "    To plot the confusion_matrix with percentages\n",
        "\n",
        "    actual_targets: actual target (dependent) variable values\n",
        "    predicted_targets: predicted target (dependent) variable values\n",
        "    \"\"\"\n",
        "    cm = confusion_matrix(actual_targets, predicted_targets)\n",
        "    labels = np.asarray(\n",
        "        [\n",
        "            [\"{0:0.0f}\".format(item) + \"\\n{0:.2%}\".format(item / cm.flatten().sum())]\n",
        "            for item in cm.flatten()\n",
        "        ]\n",
        "    ).reshape(cm.shape[0], cm.shape[1])\n",
        "\n",
        "    plt.figure(figsize=(6, 4))\n",
        "    sns.heatmap(cm, annot=labels, fmt=\"\")\n",
        "    plt.ylabel(\"True label\")\n",
        "    plt.xlabel(\"Predicted label\")"
      ]
    },
    {
      "cell_type": "markdown",
      "metadata": {
        "id": "ZLQMVCywT87j"
      },
      "source": [
        "## Model Building"
      ]
    },
    {
      "cell_type": "markdown",
      "metadata": {
        "id": "SzDpHlsFT_QA"
      },
      "source": [
        "### Model Evaluation Criterion"
      ]
    },
    {
      "cell_type": "markdown",
      "metadata": {
        "id": "FayG94iciXVS"
      },
      "source": [
        "**Write down the logic for choosing the metric that would be the best metric for this business scenario.**\n",
        "\n",
        "A model can make wrong predictions in the following ways:\n",
        "\n",
        "Predicting a customer will leave the bank in the next 6 months but they do not leave..\n",
        "Predicting a customer will NOT leave the bank in the next 6 months but they DO leave..\n",
        "Which case is more important?\n",
        "\n",
        "Predicting a customer will NOT leave the bank in the next 6 months but they DO leave is More Important. Bank cares about retaining the customer and so it is important that we do not make wrong prediction of NOT Leaving while they actually leave\n",
        "\n",
        "**How to reduce this loss i.e need to reduce False Negatives as well as False Positives?**\n",
        "\n",
        "So we want to reduce False Negative. Hence Recall is important in this scenario\n",
        "\n",
        "As we have are dealing with an imbalance in class distribution, we will be using class weights to allow the model to give proportionally more importance to the minority class."
      ]
    },
    {
      "cell_type": "code",
      "execution_count": 168,
      "metadata": {},
      "outputs": [
        {
          "data": {
            "text/plain": [
              "{0: 1.2558869701726845, 1: 4.9079754601226995}"
            ]
          },
          "execution_count": 168,
          "metadata": {},
          "output_type": "execute_result"
        }
      ],
      "source": [
        "# Calculate class weights for imbalanced dataset\n",
        "cw = (y_train.shape[0]) / np.bincount(y_train)\n",
        "\n",
        "# Create a dictionary mapping class indices to their respective class weights\n",
        "cw_dict = {}\n",
        "for i in range(cw.shape[0]):\n",
        "    cw_dict[i] = cw[i]\n",
        "\n",
        "cw_dict"
      ]
    },
    {
      "cell_type": "code",
      "execution_count": 169,
      "metadata": {},
      "outputs": [],
      "source": [
        "# defining the batch size and # epochs upfront as we'll be using the same values for all models\n",
        "epochs = 25\n",
        "batch_size = 64"
      ]
    },
    {
      "cell_type": "markdown",
      "metadata": {
        "id": "735HwSYiDSf1"
      },
      "source": [
        "### Neural Network with SGD Optimizer"
      ]
    },
    {
      "cell_type": "code",
      "execution_count": 170,
      "metadata": {},
      "outputs": [],
      "source": [
        "# clears the current Keras session, resetting all layers and models previously created, freeing up memory and resources.\n",
        "tf.keras.backend.clear_session()"
      ]
    },
    {
      "cell_type": "code",
      "execution_count": 171,
      "metadata": {},
      "outputs": [],
      "source": [
        "#Initializing the neural network\n",
        "model = Sequential()\n",
        "model.add(Dense(14,activation=\"relu\",input_dim=X_train.shape[1]))\n",
        "model.add(Dense(7,activation=\"relu\"))\n",
        "model.add(Dense(1,activation=\"sigmoid\"))"
      ]
    },
    {
      "cell_type": "code",
      "execution_count": 172,
      "metadata": {},
      "outputs": [
        {
          "name": "stdout",
          "output_type": "stream",
          "text": [
            "Model: \"sequential\"\n",
            "_________________________________________________________________\n",
            " Layer (type)                Output Shape              Param #   \n",
            "=================================================================\n",
            " dense (Dense)               (None, 14)                168       \n",
            "                                                                 \n",
            " dense_1 (Dense)             (None, 7)                 105       \n",
            "                                                                 \n",
            " dense_2 (Dense)             (None, 1)                 8         \n",
            "                                                                 \n",
            "=================================================================\n",
            "Total params: 281 (1.10 KB)\n",
            "Trainable params: 281 (1.10 KB)\n",
            "Non-trainable params: 0 (0.00 Byte)\n",
            "_________________________________________________________________\n"
          ]
        }
      ],
      "source": [
        "model.summary()"
      ]
    },
    {
      "cell_type": "code",
      "execution_count": 173,
      "metadata": {},
      "outputs": [
        {
          "name": "stderr",
          "output_type": "stream",
          "text": [
            "WARNING:absl:At this time, the v2.11+ optimizer `tf.keras.optimizers.SGD` runs slowly on M1/M2 Macs, please use the legacy Keras optimizer instead, located at `tf.keras.optimizers.legacy.SGD`.\n"
          ]
        }
      ],
      "source": [
        "optimizer = tf.keras.optimizers.SGD()    # defining SGD as the optimizer to be used\n",
        "model.compile(loss='binary_crossentropy', optimizer=optimizer)"
      ]
    },
    {
      "cell_type": "code",
      "execution_count": 174,
      "metadata": {},
      "outputs": [
        {
          "name": "stdout",
          "output_type": "stream",
          "text": [
            "Epoch 1/25\n",
            "100/100 [==============================] - 0s 812us/step - loss: 1.3982 - val_loss: 0.7005\n",
            "Epoch 2/25\n",
            "100/100 [==============================] - 0s 411us/step - loss: 1.2889 - val_loss: 0.6424\n",
            "Epoch 3/25\n",
            "100/100 [==============================] - 0s 406us/step - loss: 1.2410 - val_loss: 0.6218\n",
            "Epoch 4/25\n",
            "100/100 [==============================] - 0s 404us/step - loss: 1.2001 - val_loss: 0.5993\n",
            "Epoch 5/25\n",
            "100/100 [==============================] - 0s 395us/step - loss: 1.1653 - val_loss: 0.5767\n",
            "Epoch 6/25\n",
            "100/100 [==============================] - 0s 400us/step - loss: 1.1365 - val_loss: 0.5671\n",
            "Epoch 7/25\n",
            "100/100 [==============================] - 0s 399us/step - loss: 1.1115 - val_loss: 0.5548\n",
            "Epoch 8/25\n",
            "100/100 [==============================] - 0s 394us/step - loss: 1.0884 - val_loss: 0.5418\n",
            "Epoch 9/25\n",
            "100/100 [==============================] - 0s 389us/step - loss: 1.0671 - val_loss: 0.5231\n",
            "Epoch 10/25\n",
            "100/100 [==============================] - 0s 399us/step - loss: 1.0475 - val_loss: 0.5318\n",
            "Epoch 11/25\n",
            "100/100 [==============================] - 0s 393us/step - loss: 1.0310 - val_loss: 0.5133\n",
            "Epoch 12/25\n",
            "100/100 [==============================] - 0s 394us/step - loss: 1.0156 - val_loss: 0.5100\n",
            "Epoch 13/25\n",
            "100/100 [==============================] - 0s 397us/step - loss: 1.0025 - val_loss: 0.4965\n",
            "Epoch 14/25\n",
            "100/100 [==============================] - 0s 389us/step - loss: 0.9905 - val_loss: 0.4795\n",
            "Epoch 15/25\n",
            "100/100 [==============================] - 0s 391us/step - loss: 0.9812 - val_loss: 0.4811\n",
            "Epoch 16/25\n",
            "100/100 [==============================] - 0s 387us/step - loss: 0.9735 - val_loss: 0.4857\n",
            "Epoch 17/25\n",
            "100/100 [==============================] - 0s 396us/step - loss: 0.9670 - val_loss: 0.4831\n",
            "Epoch 18/25\n",
            "100/100 [==============================] - 0s 389us/step - loss: 0.9617 - val_loss: 0.4839\n",
            "Epoch 19/25\n",
            "100/100 [==============================] - 0s 391us/step - loss: 0.9581 - val_loss: 0.4762\n",
            "Epoch 20/25\n",
            "100/100 [==============================] - 0s 397us/step - loss: 0.9557 - val_loss: 0.4886\n",
            "Epoch 21/25\n",
            "100/100 [==============================] - 0s 391us/step - loss: 0.9532 - val_loss: 0.4864\n",
            "Epoch 22/25\n",
            "100/100 [==============================] - 0s 393us/step - loss: 0.9507 - val_loss: 0.4687\n",
            "Epoch 23/25\n",
            "100/100 [==============================] - 0s 388us/step - loss: 0.9493 - val_loss: 0.4748\n",
            "Epoch 24/25\n",
            "100/100 [==============================] - 0s 394us/step - loss: 0.9474 - val_loss: 0.4739\n",
            "Epoch 25/25\n",
            "100/100 [==============================] - 0s 388us/step - loss: 0.9460 - val_loss: 0.4703\n"
          ]
        }
      ],
      "source": [
        "start = time.time()\n",
        "history = model.fit(X_train, y_train, validation_data=(X_valid,y_valid) , batch_size=batch_size, epochs=epochs,class_weight=cw_dict)\n",
        "end=time.time()"
      ]
    },
    {
      "cell_type": "code",
      "execution_count": 175,
      "metadata": {},
      "outputs": [
        {
          "name": "stdout",
          "output_type": "stream",
          "text": [
            "Time taken in seconds  1.1738030910491943\n"
          ]
        }
      ],
      "source": [
        "print(\"Time taken in seconds \",end-start)"
      ]
    },
    {
      "cell_type": "code",
      "execution_count": 176,
      "metadata": {},
      "outputs": [
        {
          "data": {
            "image/png": "[encoded data removed]",
            "text/plain": [
              "<Figure size 640x480 with 1 Axes>"
            ]
          },
          "metadata": {},
          "output_type": "display_data"
        }
      ],
      "source": [
        "plot(history,'loss')"
      ]
    },
    {
      "cell_type": "code",
      "execution_count": 177,
      "metadata": {},
      "outputs": [
        {
          "name": "stdout",
          "output_type": "stream",
          "text": [
            "200/200 [==============================] - 0s 232us/step\n"
          ]
        },
        {
          "data": {
            "text/html": [
              "<div>\n",
              "<style scoped>\n",
              "    .dataframe tbody tr th:only-of-type {\n",
              "        vertical-align: middle;\n",
              "    }\n",
              "\n",
              "    .dataframe tbody tr th {\n",
              "        vertical-align: top;\n",
              "    }\n",
              "\n",
              "    .dataframe thead th {\n",
              "        text-align: right;\n",
              "    }\n",
              "</style>\n",
              "<table border=\"1\" class=\"dataframe\">\n",
              "  <thead>\n",
              "    <tr style=\"text-align: right;\">\n",
              "      <th></th>\n",
              "      <th>Accuracy</th>\n",
              "      <th>Recall</th>\n",
              "      <th>Precision</th>\n",
              "      <th>F1 Score</th>\n",
              "    </tr>\n",
              "  </thead>\n",
              "  <tbody>\n",
              "    <tr>\n",
              "      <th>0</th>\n",
              "      <td>0.78375</td>\n",
              "      <td>0.78375</td>\n",
              "      <td>0.836721</td>\n",
              "      <td>0.799411</td>\n",
              "    </tr>\n",
              "  </tbody>\n",
              "</table>\n",
              "</div>"
            ],
            "text/plain": [
              "   Accuracy   Recall  Precision  F1 Score\n",
              "0   0.78375  0.78375   0.836721  0.799411"
            ]
          },
          "execution_count": 177,
          "metadata": {},
          "output_type": "execute_result"
        }
      ],
      "source": [
        "model_0_train_perf = model_performance_classification(model, X_train, y_train)\n",
        "model_0_train_perf"
      ]
    },
    {
      "cell_type": "code",
      "execution_count": 178,
      "metadata": {},
      "outputs": [
        {
          "name": "stdout",
          "output_type": "stream",
          "text": [
            "50/50 [==============================] - 0s 242us/step\n"
          ]
        },
        {
          "data": {
            "text/html": [
              "<div>\n",
              "<style scoped>\n",
              "    .dataframe tbody tr th:only-of-type {\n",
              "        vertical-align: middle;\n",
              "    }\n",
              "\n",
              "    .dataframe tbody tr th {\n",
              "        vertical-align: top;\n",
              "    }\n",
              "\n",
              "    .dataframe thead th {\n",
              "        text-align: right;\n",
              "    }\n",
              "</style>\n",
              "<table border=\"1\" class=\"dataframe\">\n",
              "  <thead>\n",
              "    <tr style=\"text-align: right;\">\n",
              "      <th></th>\n",
              "      <th>Accuracy</th>\n",
              "      <th>Recall</th>\n",
              "      <th>Precision</th>\n",
              "      <th>F1 Score</th>\n",
              "    </tr>\n",
              "  </thead>\n",
              "  <tbody>\n",
              "    <tr>\n",
              "      <th>0</th>\n",
              "      <td>0.771875</td>\n",
              "      <td>0.771875</td>\n",
              "      <td>0.822631</td>\n",
              "      <td>0.787826</td>\n",
              "    </tr>\n",
              "  </tbody>\n",
              "</table>\n",
              "</div>"
            ],
            "text/plain": [
              "   Accuracy    Recall  Precision  F1 Score\n",
              "0  0.771875  0.771875   0.822631  0.787826"
            ]
          },
          "execution_count": 178,
          "metadata": {},
          "output_type": "execute_result"
        }
      ],
      "source": [
        "model_0_valid_perf = model_performance_classification(model, X_valid, y_valid)\n",
        "model_0_valid_perf"
      ]
    },
    {
      "cell_type": "markdown",
      "metadata": {},
      "source": [
        "## Neural Network with SGD Optimizer & Momentum"
      ]
    },
    {
      "cell_type": "code",
      "execution_count": 179,
      "metadata": {},
      "outputs": [],
      "source": [
        "# clears the current Keras session, resetting all layers and models previously created, freeing up memory and resources.\n",
        "tf.keras.backend.clear_session()"
      ]
    },
    {
      "cell_type": "code",
      "execution_count": 180,
      "metadata": {},
      "outputs": [],
      "source": [
        "#Initializing the neural network\n",
        "model = Sequential()\n",
        "model.add(Dense(14,activation=\"relu\",input_dim=X_train.shape[1]))\n",
        "model.add(Dense(7,activation=\"relu\"))\n",
        "model.add(Dense(1,activation=\"sigmoid\"))"
      ]
    },
    {
      "cell_type": "code",
      "execution_count": 181,
      "metadata": {},
      "outputs": [
        {
          "name": "stdout",
          "output_type": "stream",
          "text": [
            "Model: \"sequential\"\n",
            "_________________________________________________________________\n",
            " Layer (type)                Output Shape              Param #   \n",
            "=================================================================\n",
            " dense (Dense)               (None, 14)                168       \n",
            "                                                                 \n",
            " dense_1 (Dense)             (None, 7)                 105       \n",
            "                                                                 \n",
            " dense_2 (Dense)             (None, 1)                 8         \n",
            "                                                                 \n",
            "=================================================================\n",
            "Total params: 281 (1.10 KB)\n",
            "Trainable params: 281 (1.10 KB)\n",
            "Non-trainable params: 0 (0.00 Byte)\n",
            "_________________________________________________________________\n"
          ]
        }
      ],
      "source": [
        "model.summary()"
      ]
    },
    {
      "cell_type": "code",
      "execution_count": 182,
      "metadata": {},
      "outputs": [
        {
          "name": "stderr",
          "output_type": "stream",
          "text": [
            "WARNING:absl:At this time, the v2.11+ optimizer `tf.keras.optimizers.SGD` runs slowly on M1/M2 Macs, please use the legacy Keras optimizer instead, located at `tf.keras.optimizers.legacy.SGD`.\n"
          ]
        }
      ],
      "source": [
        "optimizer = tf.keras.optimizers.SGD(momentum=0.9)    # defining SGD as the optimizer to be used\n",
        "model.compile(loss='binary_crossentropy', optimizer=optimizer)"
      ]
    },
    {
      "cell_type": "code",
      "execution_count": 183,
      "metadata": {},
      "outputs": [
        {
          "name": "stdout",
          "output_type": "stream",
          "text": [
            "Epoch 1/25\n",
            "100/100 [==============================] - 0s 813us/step - loss: 1.3364 - val_loss: 0.6289\n",
            "Epoch 2/25\n",
            "100/100 [==============================] - 0s 402us/step - loss: 1.1293 - val_loss: 0.5181\n",
            "Epoch 3/25\n",
            "100/100 [==============================] - 0s 399us/step - loss: 1.0442 - val_loss: 0.5430\n",
            "Epoch 4/25\n",
            "100/100 [==============================] - 0s 405us/step - loss: 0.9949 - val_loss: 0.5716\n",
            "Epoch 5/25\n",
            "100/100 [==============================] - 0s 398us/step - loss: 0.9703 - val_loss: 0.4514\n",
            "Epoch 6/25\n",
            "100/100 [==============================] - 0s 397us/step - loss: 0.9626 - val_loss: 0.4672\n",
            "Epoch 7/25\n",
            "100/100 [==============================] - 0s 393us/step - loss: 0.9592 - val_loss: 0.4703\n",
            "Epoch 8/25\n",
            "100/100 [==============================] - 0s 395us/step - loss: 0.9462 - val_loss: 0.4440\n",
            "Epoch 9/25\n",
            "100/100 [==============================] - 0s 392us/step - loss: 0.9432 - val_loss: 0.4401\n",
            "Epoch 10/25\n",
            "100/100 [==============================] - 0s 398us/step - loss: 0.9426 - val_loss: 0.4785\n",
            "Epoch 11/25\n",
            "100/100 [==============================] - 0s 394us/step - loss: 0.9335 - val_loss: 0.6044\n",
            "Epoch 12/25\n",
            "100/100 [==============================] - 0s 393us/step - loss: 0.9391 - val_loss: 0.5465\n",
            "Epoch 13/25\n",
            "100/100 [==============================] - 0s 394us/step - loss: 0.9391 - val_loss: 0.5328\n",
            "Epoch 14/25\n",
            "100/100 [==============================] - 0s 393us/step - loss: 0.9358 - val_loss: 0.4490\n",
            "Epoch 15/25\n",
            "100/100 [==============================] - 0s 395us/step - loss: 0.9246 - val_loss: 0.4756\n",
            "Epoch 16/25\n",
            "100/100 [==============================] - 0s 394us/step - loss: 0.9186 - val_loss: 0.5045\n",
            "Epoch 17/25\n",
            "100/100 [==============================] - 0s 394us/step - loss: 0.9146 - val_loss: 0.5102\n",
            "Epoch 18/25\n",
            "100/100 [==============================] - 0s 394us/step - loss: 0.9101 - val_loss: 0.4316\n",
            "Epoch 19/25\n",
            "100/100 [==============================] - 0s 393us/step - loss: 0.9185 - val_loss: 0.5033\n",
            "Epoch 20/25\n",
            "100/100 [==============================] - 0s 393us/step - loss: 0.9139 - val_loss: 0.4738\n",
            "Epoch 21/25\n",
            "100/100 [==============================] - 0s 395us/step - loss: 0.9038 - val_loss: 0.5104\n",
            "Epoch 22/25\n",
            "100/100 [==============================] - 0s 395us/step - loss: 0.9050 - val_loss: 0.4465\n",
            "Epoch 23/25\n",
            "100/100 [==============================] - 0s 391us/step - loss: 0.9063 - val_loss: 0.4924\n",
            "Epoch 24/25\n",
            "100/100 [==============================] - 0s 393us/step - loss: 0.8958 - val_loss: 0.4374\n",
            "Epoch 25/25\n",
            "100/100 [==============================] - 0s 392us/step - loss: 0.8973 - val_loss: 0.4106\n"
          ]
        }
      ],
      "source": [
        "start = time.time()\n",
        "history = model.fit(X_train, y_train, validation_data=(X_valid,y_valid) , batch_size=batch_size, epochs=epochs,class_weight = cw_dict)\n",
        "end=time.time()"
      ]
    },
    {
      "cell_type": "code",
      "execution_count": 184,
      "metadata": {},
      "outputs": [
        {
          "name": "stdout",
          "output_type": "stream",
          "text": [
            "Time taken in seconds  1.1693921089172363\n"
          ]
        }
      ],
      "source": [
        "print(\"Time taken in seconds \",end-start)"
      ]
    },
    {
      "cell_type": "code",
      "execution_count": 185,
      "metadata": {},
      "outputs": [
        {
          "data": {
            "image/png": "[encoded data removed]",
            "text/plain": [
              "<Figure size 640x480 with 1 Axes>"
            ]
          },
          "metadata": {},
          "output_type": "display_data"
        }
      ],
      "source": [
        "plot(history,'loss')"
      ]
    },
    {
      "cell_type": "code",
      "execution_count": 186,
      "metadata": {},
      "outputs": [
        {
          "name": "stdout",
          "output_type": "stream",
          "text": [
            "200/200 [==============================] - 0s 229us/step\n"
          ]
        },
        {
          "data": {
            "text/html": [
              "<div>\n",
              "<style scoped>\n",
              "    .dataframe tbody tr th:only-of-type {\n",
              "        vertical-align: middle;\n",
              "    }\n",
              "\n",
              "    .dataframe tbody tr th {\n",
              "        vertical-align: top;\n",
              "    }\n",
              "\n",
              "    .dataframe thead th {\n",
              "        text-align: right;\n",
              "    }\n",
              "</style>\n",
              "<table border=\"1\" class=\"dataframe\">\n",
              "  <thead>\n",
              "    <tr style=\"text-align: right;\">\n",
              "      <th></th>\n",
              "      <th>Accuracy</th>\n",
              "      <th>Recall</th>\n",
              "      <th>Precision</th>\n",
              "      <th>F1 Score</th>\n",
              "    </tr>\n",
              "  </thead>\n",
              "  <tbody>\n",
              "    <tr>\n",
              "      <th>0</th>\n",
              "      <td>0.835469</td>\n",
              "      <td>0.835469</td>\n",
              "      <td>0.850901</td>\n",
              "      <td>0.841275</td>\n",
              "    </tr>\n",
              "  </tbody>\n",
              "</table>\n",
              "</div>"
            ],
            "text/plain": [
              "   Accuracy    Recall  Precision  F1 Score\n",
              "0  0.835469  0.835469   0.850901  0.841275"
            ]
          },
          "execution_count": 186,
          "metadata": {},
          "output_type": "execute_result"
        }
      ],
      "source": [
        "model_1_train_perf = model_performance_classification(model, X_train, y_train)\n",
        "model_1_train_perf"
      ]
    },
    {
      "cell_type": "code",
      "execution_count": 187,
      "metadata": {},
      "outputs": [
        {
          "name": "stdout",
          "output_type": "stream",
          "text": [
            "50/50 [==============================] - 0s 246us/step\n"
          ]
        },
        {
          "data": {
            "text/html": [
              "<div>\n",
              "<style scoped>\n",
              "    .dataframe tbody tr th:only-of-type {\n",
              "        vertical-align: middle;\n",
              "    }\n",
              "\n",
              "    .dataframe tbody tr th {\n",
              "        vertical-align: top;\n",
              "    }\n",
              "\n",
              "    .dataframe thead th {\n",
              "        text-align: right;\n",
              "    }\n",
              "</style>\n",
              "<table border=\"1\" class=\"dataframe\">\n",
              "  <thead>\n",
              "    <tr style=\"text-align: right;\">\n",
              "      <th></th>\n",
              "      <th>Accuracy</th>\n",
              "      <th>Recall</th>\n",
              "      <th>Precision</th>\n",
              "      <th>F1 Score</th>\n",
              "    </tr>\n",
              "  </thead>\n",
              "  <tbody>\n",
              "    <tr>\n",
              "      <th>0</th>\n",
              "      <td>0.826875</td>\n",
              "      <td>0.826875</td>\n",
              "      <td>0.839658</td>\n",
              "      <td>0.832006</td>\n",
              "    </tr>\n",
              "  </tbody>\n",
              "</table>\n",
              "</div>"
            ],
            "text/plain": [
              "   Accuracy    Recall  Precision  F1 Score\n",
              "0  0.826875  0.826875   0.839658  0.832006"
            ]
          },
          "execution_count": 187,
          "metadata": {},
          "output_type": "execute_result"
        }
      ],
      "source": [
        "model_1_valid_perf = model_performance_classification(model, X_valid, y_valid)\n",
        "model_1_valid_perf"
      ]
    },
    {
      "cell_type": "markdown",
      "metadata": {
        "id": "ygzPHkE_Anaw"
      },
      "source": [
        "## Model Performance Improvement"
      ]
    },
    {
      "cell_type": "markdown",
      "metadata": {
        "id": "EcEiT7Vyc6Y0"
      },
      "source": [
        "### Neural Network with Adam Optimizer"
      ]
    },
    {
      "cell_type": "code",
      "execution_count": 188,
      "metadata": {
        "id": "_5anPDAru0Vq"
      },
      "outputs": [],
      "source": [
        "# clears the current Keras session, resetting all layers and models previously created, freeing up memory and resources.\n",
        "tf.keras.backend.clear_session()"
      ]
    },
    {
      "cell_type": "code",
      "execution_count": 189,
      "metadata": {},
      "outputs": [],
      "source": [
        "#Initializing the neural network\n",
        "model = Sequential()\n",
        "model.add(Dense(14,activation=\"relu\",input_dim=X_train.shape[1]))\n",
        "model.add(Dense(7,activation=\"relu\"))\n",
        "model.add(Dense(1,activation=\"sigmoid\"))"
      ]
    },
    {
      "cell_type": "code",
      "execution_count": 190,
      "metadata": {},
      "outputs": [
        {
          "name": "stdout",
          "output_type": "stream",
          "text": [
            "Model: \"sequential\"\n",
            "_________________________________________________________________\n",
            " Layer (type)                Output Shape              Param #   \n",
            "=================================================================\n",
            " dense (Dense)               (None, 14)                168       \n",
            "                                                                 \n",
            " dense_1 (Dense)             (None, 7)                 105       \n",
            "                                                                 \n",
            " dense_2 (Dense)             (None, 1)                 8         \n",
            "                                                                 \n",
            "=================================================================\n",
            "Total params: 281 (1.10 KB)\n",
            "Trainable params: 281 (1.10 KB)\n",
            "Non-trainable params: 0 (0.00 Byte)\n",
            "_________________________________________________________________\n"
          ]
        }
      ],
      "source": [
        "model.summary()"
      ]
    },
    {
      "cell_type": "code",
      "execution_count": 191,
      "metadata": {},
      "outputs": [
        {
          "name": "stderr",
          "output_type": "stream",
          "text": [
            "WARNING:absl:At this time, the v2.11+ optimizer `tf.keras.optimizers.Adam` runs slowly on M1/M2 Macs, please use the legacy Keras optimizer instead, located at `tf.keras.optimizers.legacy.Adam`.\n"
          ]
        }
      ],
      "source": [
        "optimizer = tf.keras.optimizers.Adam()    # defining Adam as the optimizer to be used\n",
        "model.compile(loss='binary_crossentropy', optimizer=optimizer)"
      ]
    },
    {
      "cell_type": "code",
      "execution_count": 192,
      "metadata": {},
      "outputs": [
        {
          "name": "stdout",
          "output_type": "stream",
          "text": [
            "Epoch 1/25\n",
            "100/100 [==============================] - 0s 865us/step - loss: 1.3249 - val_loss: 0.6318\n",
            "Epoch 2/25\n",
            "100/100 [==============================] - 0s 421us/step - loss: 1.2316 - val_loss: 0.5815\n",
            "Epoch 3/25\n",
            "100/100 [==============================] - 0s 421us/step - loss: 1.1640 - val_loss: 0.5809\n",
            "Epoch 4/25\n",
            "100/100 [==============================] - 0s 418us/step - loss: 1.1119 - val_loss: 0.5496\n",
            "Epoch 5/25\n",
            "100/100 [==============================] - 0s 414us/step - loss: 1.0741 - val_loss: 0.5149\n",
            "Epoch 6/25\n",
            "100/100 [==============================] - 0s 412us/step - loss: 1.0429 - val_loss: 0.5067\n",
            "Epoch 7/25\n",
            "100/100 [==============================] - 0s 412us/step - loss: 1.0155 - val_loss: 0.5205\n",
            "Epoch 8/25\n",
            "100/100 [==============================] - 0s 411us/step - loss: 0.9926 - val_loss: 0.5122\n",
            "Epoch 9/25\n",
            "100/100 [==============================] - 0s 612us/step - loss: 0.9762 - val_loss: 0.4823\n",
            "Epoch 10/25\n",
            "100/100 [==============================] - 0s 415us/step - loss: 0.9606 - val_loss: 0.5158\n",
            "Epoch 11/25\n",
            "100/100 [==============================] - 0s 412us/step - loss: 0.9512 - val_loss: 0.4782\n",
            "Epoch 12/25\n",
            "100/100 [==============================] - 0s 411us/step - loss: 0.9454 - val_loss: 0.4797\n",
            "Epoch 13/25\n",
            "100/100 [==============================] - 0s 415us/step - loss: 0.9356 - val_loss: 0.4781\n",
            "Epoch 14/25\n",
            "100/100 [==============================] - 0s 414us/step - loss: 0.9285 - val_loss: 0.4566\n",
            "Epoch 15/25\n",
            "100/100 [==============================] - 0s 415us/step - loss: 0.9258 - val_loss: 0.4702\n",
            "Epoch 16/25\n",
            "100/100 [==============================] - 0s 414us/step - loss: 0.9195 - val_loss: 0.4642\n",
            "Epoch 17/25\n",
            "100/100 [==============================] - 0s 417us/step - loss: 0.9160 - val_loss: 0.4694\n",
            "Epoch 18/25\n",
            "100/100 [==============================] - 0s 412us/step - loss: 0.9114 - val_loss: 0.4701\n",
            "Epoch 19/25\n",
            "100/100 [==============================] - 0s 415us/step - loss: 0.9082 - val_loss: 0.4535\n",
            "Epoch 20/25\n",
            "100/100 [==============================] - 0s 412us/step - loss: 0.9071 - val_loss: 0.4687\n",
            "Epoch 21/25\n",
            "100/100 [==============================] - 0s 412us/step - loss: 0.9033 - val_loss: 0.4645\n",
            "Epoch 22/25\n",
            "100/100 [==============================] - 0s 411us/step - loss: 0.9012 - val_loss: 0.4534\n",
            "Epoch 23/25\n",
            "100/100 [==============================] - 0s 412us/step - loss: 0.8985 - val_loss: 0.4602\n",
            "Epoch 24/25\n",
            "100/100 [==============================] - 0s 414us/step - loss: 0.8962 - val_loss: 0.4615\n",
            "Epoch 25/25\n",
            "100/100 [==============================] - 0s 410us/step - loss: 0.8942 - val_loss: 0.4600\n"
          ]
        }
      ],
      "source": [
        "start = time.time()\n",
        "history = model.fit(X_train, y_train, validation_data=(X_valid,y_valid) , batch_size=batch_size, epochs=epochs,class_weight=cw_dict)\n",
        "end=time.time()"
      ]
    },
    {
      "cell_type": "code",
      "execution_count": 193,
      "metadata": {},
      "outputs": [
        {
          "name": "stdout",
          "output_type": "stream",
          "text": [
            "Time taken in seconds  1.400514841079712\n"
          ]
        }
      ],
      "source": [
        "print(\"Time taken in seconds \",end-start)"
      ]
    },
    {
      "cell_type": "code",
      "execution_count": 194,
      "metadata": {},
      "outputs": [
        {
          "data": {
            "image/png": "[encoded data removed]",
            "text/plain": [
              "<Figure size 640x480 with 1 Axes>"
            ]
          },
          "metadata": {},
          "output_type": "display_data"
        }
      ],
      "source": [
        "plot(history,'loss')"
      ]
    },
    {
      "cell_type": "code",
      "execution_count": 195,
      "metadata": {},
      "outputs": [
        {
          "name": "stdout",
          "output_type": "stream",
          "text": [
            "200/200 [==============================] - 0s 231us/step\n"
          ]
        },
        {
          "data": {
            "text/html": [
              "<div>\n",
              "<style scoped>\n",
              "    .dataframe tbody tr th:only-of-type {\n",
              "        vertical-align: middle;\n",
              "    }\n",
              "\n",
              "    .dataframe tbody tr th {\n",
              "        vertical-align: top;\n",
              "    }\n",
              "\n",
              "    .dataframe thead th {\n",
              "        text-align: right;\n",
              "    }\n",
              "</style>\n",
              "<table border=\"1\" class=\"dataframe\">\n",
              "  <thead>\n",
              "    <tr style=\"text-align: right;\">\n",
              "      <th></th>\n",
              "      <th>Accuracy</th>\n",
              "      <th>Recall</th>\n",
              "      <th>Precision</th>\n",
              "      <th>F1 Score</th>\n",
              "    </tr>\n",
              "  </thead>\n",
              "  <tbody>\n",
              "    <tr>\n",
              "      <th>0</th>\n",
              "      <td>0.791562</td>\n",
              "      <td>0.791562</td>\n",
              "      <td>0.844585</td>\n",
              "      <td>0.806778</td>\n",
              "    </tr>\n",
              "  </tbody>\n",
              "</table>\n",
              "</div>"
            ],
            "text/plain": [
              "   Accuracy    Recall  Precision  F1 Score\n",
              "0  0.791562  0.791562   0.844585  0.806778"
            ]
          },
          "execution_count": 195,
          "metadata": {},
          "output_type": "execute_result"
        }
      ],
      "source": [
        "model_2_train_perf = model_performance_classification(model, X_train, y_train)\n",
        "model_2_train_perf"
      ]
    },
    {
      "cell_type": "code",
      "execution_count": 196,
      "metadata": {},
      "outputs": [
        {
          "name": "stdout",
          "output_type": "stream",
          "text": [
            "50/50 [==============================] - 0s 246us/step\n"
          ]
        },
        {
          "data": {
            "text/html": [
              "<div>\n",
              "<style scoped>\n",
              "    .dataframe tbody tr th:only-of-type {\n",
              "        vertical-align: middle;\n",
              "    }\n",
              "\n",
              "    .dataframe tbody tr th {\n",
              "        vertical-align: top;\n",
              "    }\n",
              "\n",
              "    .dataframe thead th {\n",
              "        text-align: right;\n",
              "    }\n",
              "</style>\n",
              "<table border=\"1\" class=\"dataframe\">\n",
              "  <thead>\n",
              "    <tr style=\"text-align: right;\">\n",
              "      <th></th>\n",
              "      <th>Accuracy</th>\n",
              "      <th>Recall</th>\n",
              "      <th>Precision</th>\n",
              "      <th>F1 Score</th>\n",
              "    </tr>\n",
              "  </thead>\n",
              "  <tbody>\n",
              "    <tr>\n",
              "      <th>0</th>\n",
              "      <td>0.785</td>\n",
              "      <td>0.785</td>\n",
              "      <td>0.839953</td>\n",
              "      <td>0.800888</td>\n",
              "    </tr>\n",
              "  </tbody>\n",
              "</table>\n",
              "</div>"
            ],
            "text/plain": [
              "   Accuracy  Recall  Precision  F1 Score\n",
              "0     0.785   0.785   0.839953  0.800888"
            ]
          },
          "execution_count": 196,
          "metadata": {},
          "output_type": "execute_result"
        }
      ],
      "source": [
        "model_2_valid_perf = model_performance_classification(model, X_valid, y_valid)\n",
        "model_2_valid_perf"
      ]
    },
    {
      "cell_type": "markdown",
      "metadata": {
        "id": "I-86J6fRu0vu"
      },
      "source": [
        "### Neural Network with Adam Optimizer and Dropout"
      ]
    },
    {
      "cell_type": "code",
      "execution_count": 197,
      "metadata": {
        "id": "2WkE_mqIu0SP"
      },
      "outputs": [],
      "source": [
        "# clears the current Keras session, resetting all layers and models previously created, freeing up memory and resources.\n",
        "tf.keras.backend.clear_session()"
      ]
    },
    {
      "cell_type": "code",
      "execution_count": 198,
      "metadata": {},
      "outputs": [],
      "source": [
        "#Initializing the neural network\n",
        "model = Sequential()\n",
        "model.add(Dense(14,activation=\"relu\",input_dim=X_train.shape[1]))\n",
        "model.add(Dropout(0.4))\n",
        "model.add(Dense(7,activation=\"relu\"))\n",
        "model.add(Dropout(0.2))\n",
        "model.add(Dense(1,activation=\"sigmoid\"))"
      ]
    },
    {
      "cell_type": "code",
      "execution_count": 199,
      "metadata": {},
      "outputs": [
        {
          "name": "stdout",
          "output_type": "stream",
          "text": [
            "Model: \"sequential\"\n",
            "_________________________________________________________________\n",
            " Layer (type)                Output Shape              Param #   \n",
            "=================================================================\n",
            " dense (Dense)               (None, 14)                168       \n",
            "                                                                 \n",
            " dropout (Dropout)           (None, 14)                0         \n",
            "                                                                 \n",
            " dense_1 (Dense)             (None, 7)                 105       \n",
            "                                                                 \n",
            " dropout_1 (Dropout)         (None, 7)                 0         \n",
            "                                                                 \n",
            " dense_2 (Dense)             (None, 1)                 8         \n",
            "                                                                 \n",
            "=================================================================\n",
            "Total params: 281 (1.10 KB)\n",
            "Trainable params: 281 (1.10 KB)\n",
            "Non-trainable params: 0 (0.00 Byte)\n",
            "_________________________________________________________________\n"
          ]
        }
      ],
      "source": [
        "model.summary()"
      ]
    },
    {
      "cell_type": "code",
      "execution_count": 200,
      "metadata": {},
      "outputs": [
        {
          "name": "stderr",
          "output_type": "stream",
          "text": [
            "WARNING:absl:At this time, the v2.11+ optimizer `tf.keras.optimizers.Adam` runs slowly on M1/M2 Macs, please use the legacy Keras optimizer instead, located at `tf.keras.optimizers.legacy.Adam`.\n"
          ]
        }
      ],
      "source": [
        "optimizer = tf.keras.optimizers.Adam()    # defining Adam as the optimizer to be used\n",
        "model.compile(loss='binary_crossentropy', optimizer=optimizer)"
      ]
    },
    {
      "cell_type": "code",
      "execution_count": 201,
      "metadata": {},
      "outputs": [
        {
          "name": "stdout",
          "output_type": "stream",
          "text": [
            "Epoch 1/25\n",
            "100/100 [==============================] - 0s 889us/step - loss: 1.8315 - val_loss: 0.6356\n",
            "Epoch 2/25\n",
            "100/100 [==============================] - 0s 441us/step - loss: 1.4263 - val_loss: 0.6960\n",
            "Epoch 3/25\n",
            "100/100 [==============================] - 0s 429us/step - loss: 1.3570 - val_loss: 0.7057\n",
            "Epoch 4/25\n",
            "100/100 [==============================] - 0s 431us/step - loss: 1.3344 - val_loss: 0.6868\n",
            "Epoch 5/25\n",
            "100/100 [==============================] - 0s 426us/step - loss: 1.3045 - val_loss: 0.6728\n",
            "Epoch 6/25\n",
            "100/100 [==============================] - 0s 425us/step - loss: 1.2932 - val_loss: 0.6514\n",
            "Epoch 7/25\n",
            "100/100 [==============================] - 0s 422us/step - loss: 1.2641 - val_loss: 0.6522\n",
            "Epoch 8/25\n",
            "100/100 [==============================] - 0s 427us/step - loss: 1.2621 - val_loss: 0.6430\n",
            "Epoch 9/25\n",
            "100/100 [==============================] - 0s 422us/step - loss: 1.2505 - val_loss: 0.6313\n",
            "Epoch 10/25\n",
            "100/100 [==============================] - 0s 424us/step - loss: 1.2412 - val_loss: 0.6383\n",
            "Epoch 11/25\n",
            "100/100 [==============================] - 0s 421us/step - loss: 1.2231 - val_loss: 0.6220\n",
            "Epoch 12/25\n",
            "100/100 [==============================] - 0s 423us/step - loss: 1.2111 - val_loss: 0.6221\n",
            "Epoch 13/25\n",
            "100/100 [==============================] - 0s 420us/step - loss: 1.2164 - val_loss: 0.6152\n",
            "Epoch 14/25\n",
            "100/100 [==============================] - 0s 424us/step - loss: 1.1959 - val_loss: 0.6027\n",
            "Epoch 15/25\n",
            "100/100 [==============================] - 0s 423us/step - loss: 1.1905 - val_loss: 0.6064\n",
            "Epoch 16/25\n",
            "100/100 [==============================] - 0s 425us/step - loss: 1.1782 - val_loss: 0.6078\n",
            "Epoch 17/25\n",
            "100/100 [==============================] - 0s 421us/step - loss: 1.1910 - val_loss: 0.6016\n",
            "Epoch 18/25\n",
            "100/100 [==============================] - 0s 424us/step - loss: 1.1735 - val_loss: 0.6033\n",
            "Epoch 19/25\n",
            "100/100 [==============================] - 0s 422us/step - loss: 1.1575 - val_loss: 0.5897\n",
            "Epoch 20/25\n",
            "100/100 [==============================] - 0s 423us/step - loss: 1.1552 - val_loss: 0.5895\n",
            "Epoch 21/25\n",
            "100/100 [==============================] - 0s 420us/step - loss: 1.1471 - val_loss: 0.5866\n",
            "Epoch 22/25\n",
            "100/100 [==============================] - 0s 422us/step - loss: 1.1406 - val_loss: 0.5791\n",
            "Epoch 23/25\n",
            "100/100 [==============================] - 0s 423us/step - loss: 1.1304 - val_loss: 0.5785\n",
            "Epoch 24/25\n",
            "100/100 [==============================] - 0s 422us/step - loss: 1.1466 - val_loss: 0.5879\n",
            "Epoch 25/25\n",
            "100/100 [==============================] - 0s 424us/step - loss: 1.1378 - val_loss: 0.5874\n"
          ]
        }
      ],
      "source": [
        "start = time.time()\n",
        "history = model.fit(X_train, y_train, validation_data=(X_valid,y_valid) , batch_size=batch_size, epochs=epochs,class_weight=cw_dict)\n",
        "end=time.time()"
      ]
    },
    {
      "cell_type": "code",
      "execution_count": 202,
      "metadata": {},
      "outputs": [
        {
          "name": "stdout",
          "output_type": "stream",
          "text": [
            "Time taken in seconds  1.3194479942321777\n"
          ]
        }
      ],
      "source": [
        "print(\"Time taken in seconds \",end-start)"
      ]
    },
    {
      "cell_type": "code",
      "execution_count": 203,
      "metadata": {},
      "outputs": [
        {
          "data": {
            "image/png": "[encoded data removed]",
            "text/plain": [
              "<Figure size 640x480 with 1 Axes>"
            ]
          },
          "metadata": {},
          "output_type": "display_data"
        }
      ],
      "source": [
        "plot(history,'loss')"
      ]
    },
    {
      "cell_type": "code",
      "execution_count": 204,
      "metadata": {},
      "outputs": [
        {
          "name": "stdout",
          "output_type": "stream",
          "text": [
            "200/200 [==============================] - 0s 231us/step\n"
          ]
        },
        {
          "data": {
            "text/html": [
              "<div>\n",
              "<style scoped>\n",
              "    .dataframe tbody tr th:only-of-type {\n",
              "        vertical-align: middle;\n",
              "    }\n",
              "\n",
              "    .dataframe tbody tr th {\n",
              "        vertical-align: top;\n",
              "    }\n",
              "\n",
              "    .dataframe thead th {\n",
              "        text-align: right;\n",
              "    }\n",
              "</style>\n",
              "<table border=\"1\" class=\"dataframe\">\n",
              "  <thead>\n",
              "    <tr style=\"text-align: right;\">\n",
              "      <th></th>\n",
              "      <th>Accuracy</th>\n",
              "      <th>Recall</th>\n",
              "      <th>Precision</th>\n",
              "      <th>F1 Score</th>\n",
              "    </tr>\n",
              "  </thead>\n",
              "  <tbody>\n",
              "    <tr>\n",
              "      <th>0</th>\n",
              "      <td>0.697656</td>\n",
              "      <td>0.697656</td>\n",
              "      <td>0.827779</td>\n",
              "      <td>0.726788</td>\n",
              "    </tr>\n",
              "  </tbody>\n",
              "</table>\n",
              "</div>"
            ],
            "text/plain": [
              "   Accuracy    Recall  Precision  F1 Score\n",
              "0  0.697656  0.697656   0.827779  0.726788"
            ]
          },
          "execution_count": 204,
          "metadata": {},
          "output_type": "execute_result"
        }
      ],
      "source": [
        "model_3_train_perf = model_performance_classification(model, X_train, y_train)\n",
        "model_3_train_perf"
      ]
    },
    {
      "cell_type": "code",
      "execution_count": 205,
      "metadata": {},
      "outputs": [
        {
          "name": "stdout",
          "output_type": "stream",
          "text": [
            "50/50 [==============================] - 0s 248us/step\n"
          ]
        },
        {
          "data": {
            "text/html": [
              "<div>\n",
              "<style scoped>\n",
              "    .dataframe tbody tr th:only-of-type {\n",
              "        vertical-align: middle;\n",
              "    }\n",
              "\n",
              "    .dataframe tbody tr th {\n",
              "        vertical-align: top;\n",
              "    }\n",
              "\n",
              "    .dataframe thead th {\n",
              "        text-align: right;\n",
              "    }\n",
              "</style>\n",
              "<table border=\"1\" class=\"dataframe\">\n",
              "  <thead>\n",
              "    <tr style=\"text-align: right;\">\n",
              "      <th></th>\n",
              "      <th>Accuracy</th>\n",
              "      <th>Recall</th>\n",
              "      <th>Precision</th>\n",
              "      <th>F1 Score</th>\n",
              "    </tr>\n",
              "  </thead>\n",
              "  <tbody>\n",
              "    <tr>\n",
              "      <th>0</th>\n",
              "      <td>0.696875</td>\n",
              "      <td>0.696875</td>\n",
              "      <td>0.827149</td>\n",
              "      <td>0.726084</td>\n",
              "    </tr>\n",
              "  </tbody>\n",
              "</table>\n",
              "</div>"
            ],
            "text/plain": [
              "   Accuracy    Recall  Precision  F1 Score\n",
              "0  0.696875  0.696875   0.827149  0.726084"
            ]
          },
          "execution_count": 205,
          "metadata": {},
          "output_type": "execute_result"
        }
      ],
      "source": [
        "model_3_valid_perf = model_performance_classification(model, X_valid, y_valid)\n",
        "model_3_valid_perf"
      ]
    },
    {
      "cell_type": "markdown",
      "metadata": {
        "id": "m1Hav_XNu6ro"
      },
      "source": [
        "### Neural Network with Balanced Data (by applying SMOTE) and SGD Optimizer"
      ]
    },
    {
      "cell_type": "code",
      "execution_count": 206,
      "metadata": {
        "id": "vAHO1_vYu0DN"
      },
      "outputs": [
        {
          "name": "stdout",
          "output_type": "stream",
          "text": [
            "After UpSampling, the shape of train_X: (10192, 11)\n",
            "After UpSampling, the shape of train_y: (10192,) \n",
            "\n"
          ]
        }
      ],
      "source": [
        "sm  = SMOTE(random_state=42)\n",
        "#Complete the code to fit SMOTE on the training data.\n",
        "X_train_smote, y_train_smote= sm.fit_resample(X_train,y_train)\n",
        "print('After UpSampling, the shape of train_X: {}'.format(X_train_smote.shape))\n",
        "print('After UpSampling, the shape of train_y: {} \\n'.format(y_train_smote.shape))"
      ]
    },
    {
      "cell_type": "code",
      "execution_count": 207,
      "metadata": {},
      "outputs": [],
      "source": [
        "tf.keras.backend.clear_session()\n",
        "#Fixing the seed for random number generators so that we can ensure we receive the same output everytime\n",
        "np.random.seed(2)\n",
        "random.seed(2)\n",
        "tf.random.set_seed(2)"
      ]
    },
    {
      "cell_type": "code",
      "execution_count": 208,
      "metadata": {},
      "outputs": [],
      "source": [
        "model = Sequential()\n",
        "model.add(Dense(14, activation=\"relu\", input_dim=X_train_smote.shape[1]))\n",
        "model.add(Dense(7, activation=\"relu\"))\n",
        "model.add(Dense(1, activation=\"sigmoid\"))"
      ]
    },
    {
      "cell_type": "code",
      "execution_count": 209,
      "metadata": {},
      "outputs": [
        {
          "name": "stdout",
          "output_type": "stream",
          "text": [
            "Model: \"sequential\"\n",
            "_________________________________________________________________\n",
            " Layer (type)                Output Shape              Param #   \n",
            "=================================================================\n",
            " dense (Dense)               (None, 14)                168       \n",
            "                                                                 \n",
            " dense_1 (Dense)             (None, 7)                 105       \n",
            "                                                                 \n",
            " dense_2 (Dense)             (None, 1)                 8         \n",
            "                                                                 \n",
            "=================================================================\n",
            "Total params: 281 (1.10 KB)\n",
            "Trainable params: 281 (1.10 KB)\n",
            "Non-trainable params: 0 (0.00 Byte)\n",
            "_________________________________________________________________\n"
          ]
        }
      ],
      "source": [
        "model.summary()"
      ]
    },
    {
      "cell_type": "code",
      "execution_count": 210,
      "metadata": {},
      "outputs": [
        {
          "name": "stderr",
          "output_type": "stream",
          "text": [
            "WARNING:absl:At this time, the v2.11+ optimizer `tf.keras.optimizers.SGD` runs slowly on M1/M2 Macs, please use the legacy Keras optimizer instead, located at `tf.keras.optimizers.legacy.SGD`.\n"
          ]
        }
      ],
      "source": [
        "optimizer = tf.keras.optimizers.SGD(0.001)  # defining SGD as the optimizer to be used\n",
        "metric = keras.metrics.Recall()\n",
        "model.compile(loss=\"binary_crossentropy\", optimizer=optimizer,metrics=[metric])"
      ]
    },
    {
      "cell_type": "code",
      "execution_count": 211,
      "metadata": {},
      "outputs": [
        {
          "name": "stdout",
          "output_type": "stream",
          "text": [
            "Model: \"sequential\"\n",
            "_________________________________________________________________\n",
            " Layer (type)                Output Shape              Param #   \n",
            "=================================================================\n",
            " dense (Dense)               (None, 14)                168       \n",
            "                                                                 \n",
            " dense_1 (Dense)             (None, 7)                 105       \n",
            "                                                                 \n",
            " dense_2 (Dense)             (None, 1)                 8         \n",
            "                                                                 \n",
            "=================================================================\n",
            "Total params: 281 (1.10 KB)\n",
            "Trainable params: 281 (1.10 KB)\n",
            "Non-trainable params: 0 (0.00 Byte)\n",
            "_________________________________________________________________\n"
          ]
        }
      ],
      "source": [
        "model.summary()"
      ]
    },
    {
      "cell_type": "code",
      "execution_count": 212,
      "metadata": {},
      "outputs": [
        {
          "name": "stdout",
          "output_type": "stream",
          "text": [
            "Epoch 1/25\n",
            "160/160 [==============================] - 0s 716us/step - loss: 1.6608 - recall: 0.9867 - val_loss: 0.9694 - val_recall: 1.0000\n",
            "Epoch 2/25\n",
            "160/160 [==============================] - 0s 380us/step - loss: 1.5856 - recall: 0.9974 - val_loss: 1.0434 - val_recall: 1.0000\n",
            "Epoch 3/25\n",
            "160/160 [==============================] - 0s 378us/step - loss: 1.5434 - recall: 0.9994 - val_loss: 1.0973 - val_recall: 1.0000\n",
            "Epoch 4/25\n",
            "160/160 [==============================] - 0s 375us/step - loss: 1.5186 - recall: 0.9996 - val_loss: 1.1353 - val_recall: 1.0000\n",
            "Epoch 5/25\n",
            "160/160 [==============================] - 0s 372us/step - loss: 1.5022 - recall: 1.0000 - val_loss: 1.1604 - val_recall: 1.0000\n",
            "Epoch 6/25\n",
            "160/160 [==============================] - 0s 371us/step - loss: 1.4901 - recall: 1.0000 - val_loss: 1.1739 - val_recall: 1.0000\n",
            "Epoch 7/25\n",
            "160/160 [==============================] - 0s 375us/step - loss: 1.4802 - recall: 0.9998 - val_loss: 1.1834 - val_recall: 1.0000\n",
            "Epoch 8/25\n",
            "160/160 [==============================] - 0s 377us/step - loss: 1.4715 - recall: 0.9998 - val_loss: 1.1868 - val_recall: 1.0000\n",
            "Epoch 9/25\n",
            "160/160 [==============================] - 0s 371us/step - loss: 1.4636 - recall: 0.9998 - val_loss: 1.1868 - val_recall: 1.0000\n",
            "Epoch 10/25\n",
            "160/160 [==============================] - 0s 371us/step - loss: 1.4561 - recall: 0.9998 - val_loss: 1.1857 - val_recall: 1.0000\n",
            "Epoch 11/25\n",
            "160/160 [==============================] - 0s 371us/step - loss: 1.4491 - recall: 0.9986 - val_loss: 1.1840 - val_recall: 1.0000\n",
            "Epoch 12/25\n",
            "160/160 [==============================] - 0s 371us/step - loss: 1.4424 - recall: 0.9986 - val_loss: 1.1788 - val_recall: 1.0000\n",
            "Epoch 13/25\n",
            "160/160 [==============================] - 0s 369us/step - loss: 1.4361 - recall: 0.9978 - val_loss: 1.1766 - val_recall: 1.0000\n",
            "Epoch 14/25\n",
            "160/160 [==============================] - 0s 371us/step - loss: 1.4299 - recall: 0.9973 - val_loss: 1.1717 - val_recall: 1.0000\n",
            "Epoch 15/25\n",
            "160/160 [==============================] - 0s 373us/step - loss: 1.4239 - recall: 0.9967 - val_loss: 1.1682 - val_recall: 1.0000\n",
            "Epoch 16/25\n",
            "160/160 [==============================] - 0s 370us/step - loss: 1.4180 - recall: 0.9955 - val_loss: 1.1650 - val_recall: 1.0000\n",
            "Epoch 17/25\n",
            "160/160 [==============================] - 0s 368us/step - loss: 1.4124 - recall: 0.9945 - val_loss: 1.1612 - val_recall: 1.0000\n",
            "Epoch 18/25\n",
            "160/160 [==============================] - 0s 369us/step - loss: 1.4068 - recall: 0.9941 - val_loss: 1.1550 - val_recall: 1.0000\n",
            "Epoch 19/25\n",
            "160/160 [==============================] - 0s 369us/step - loss: 1.4012 - recall: 0.9937 - val_loss: 1.1500 - val_recall: 0.9969\n",
            "Epoch 20/25\n",
            "160/160 [==============================] - 0s 369us/step - loss: 1.3958 - recall: 0.9922 - val_loss: 1.1467 - val_recall: 0.9939\n",
            "Epoch 21/25\n",
            "160/160 [==============================] - 0s 367us/step - loss: 1.3904 - recall: 0.9920 - val_loss: 1.1417 - val_recall: 0.9908\n",
            "Epoch 22/25\n",
            "160/160 [==============================] - 0s 371us/step - loss: 1.3851 - recall: 0.9914 - val_loss: 1.1373 - val_recall: 0.9877\n",
            "Epoch 23/25\n",
            "160/160 [==============================] - 0s 370us/step - loss: 1.3798 - recall: 0.9908 - val_loss: 1.1350 - val_recall: 0.9847\n",
            "Epoch 24/25\n",
            "160/160 [==============================] - 0s 370us/step - loss: 1.3746 - recall: 0.9906 - val_loss: 1.1309 - val_recall: 0.9816\n",
            "Epoch 25/25\n",
            "160/160 [==============================] - 0s 371us/step - loss: 1.3695 - recall: 0.9902 - val_loss: 1.1282 - val_recall: 0.9785\n"
          ]
        }
      ],
      "source": [
        "import time\n",
        "\n",
        "start = time.time()\n",
        "\n",
        "history = model.fit(\n",
        "    X_train_smote,\n",
        "    y_train_smote,\n",
        "    validation_data=(X_valid, y_valid),\n",
        "    batch_size=batch_size,\n",
        "    epochs=epochs,\n",
        "    class_weight=cw_dict,\n",
        ")\n",
        "end = time.time()"
      ]
    },
    {
      "cell_type": "code",
      "execution_count": 213,
      "metadata": {},
      "outputs": [
        {
          "name": "stdout",
          "output_type": "stream",
          "text": [
            "Time taken in seconds  1.728928804397583\n"
          ]
        }
      ],
      "source": [
        "print(\"Time taken in seconds \", end - start)"
      ]
    },
    {
      "cell_type": "code",
      "execution_count": 214,
      "metadata": {},
      "outputs": [
        {
          "data": {
            "image/png": "[encoded data removed]",
            "text/plain": [
              "<Figure size 640x480 with 1 Axes>"
            ]
          },
          "metadata": {},
          "output_type": "display_data"
        }
      ],
      "source": [
        "plot(history, \"loss\")"
      ]
    },
    {
      "cell_type": "code",
      "execution_count": 215,
      "metadata": {},
      "outputs": [],
      "source": [
        "#plot(history, \"recall\")"
      ]
    },
    {
      "cell_type": "code",
      "execution_count": 216,
      "metadata": {},
      "outputs": [
        {
          "name": "stdout",
          "output_type": "stream",
          "text": [
            "319/319 [==============================] - 0s 227us/step\n"
          ]
        },
        {
          "data": {
            "text/html": [
              "<div>\n",
              "<style scoped>\n",
              "    .dataframe tbody tr th:only-of-type {\n",
              "        vertical-align: middle;\n",
              "    }\n",
              "\n",
              "    .dataframe tbody tr th {\n",
              "        vertical-align: top;\n",
              "    }\n",
              "\n",
              "    .dataframe thead th {\n",
              "        text-align: right;\n",
              "    }\n",
              "</style>\n",
              "<table border=\"1\" class=\"dataframe\">\n",
              "  <thead>\n",
              "    <tr style=\"text-align: right;\">\n",
              "      <th></th>\n",
              "      <th>Accuracy</th>\n",
              "      <th>Recall</th>\n",
              "      <th>Precision</th>\n",
              "      <th>F1 Score</th>\n",
              "    </tr>\n",
              "  </thead>\n",
              "  <tbody>\n",
              "    <tr>\n",
              "      <th>0</th>\n",
              "      <td>0.544152</td>\n",
              "      <td>0.544152</td>\n",
              "      <td>0.716213</td>\n",
              "      <td>0.430939</td>\n",
              "    </tr>\n",
              "  </tbody>\n",
              "</table>\n",
              "</div>"
            ],
            "text/plain": [
              "   Accuracy    Recall  Precision  F1 Score\n",
              "0  0.544152  0.544152   0.716213  0.430939"
            ]
          },
          "execution_count": 216,
          "metadata": {},
          "output_type": "execute_result"
        }
      ],
      "source": [
        "model_4_train_perf = model_performance_classification(model, X_train_smote, y_train_smote)\n",
        "model_4_train_perf"
      ]
    },
    {
      "cell_type": "code",
      "execution_count": 217,
      "metadata": {},
      "outputs": [
        {
          "name": "stdout",
          "output_type": "stream",
          "text": [
            "50/50 [==============================] - 0s 249us/step\n"
          ]
        },
        {
          "data": {
            "text/html": [
              "<div>\n",
              "<style scoped>\n",
              "    .dataframe tbody tr th:only-of-type {\n",
              "        vertical-align: middle;\n",
              "    }\n",
              "\n",
              "    .dataframe tbody tr th {\n",
              "        vertical-align: top;\n",
              "    }\n",
              "\n",
              "    .dataframe thead th {\n",
              "        text-align: right;\n",
              "    }\n",
              "</style>\n",
              "<table border=\"1\" class=\"dataframe\">\n",
              "  <thead>\n",
              "    <tr style=\"text-align: right;\">\n",
              "      <th></th>\n",
              "      <th>Accuracy</th>\n",
              "      <th>Recall</th>\n",
              "      <th>Precision</th>\n",
              "      <th>F1 Score</th>\n",
              "    </tr>\n",
              "  </thead>\n",
              "  <tbody>\n",
              "    <tr>\n",
              "      <th>0</th>\n",
              "      <td>0.2825</td>\n",
              "      <td>0.2825</td>\n",
              "      <td>0.800955</td>\n",
              "      <td>0.222574</td>\n",
              "    </tr>\n",
              "  </tbody>\n",
              "</table>\n",
              "</div>"
            ],
            "text/plain": [
              "   Accuracy  Recall  Precision  F1 Score\n",
              "0    0.2825  0.2825   0.800955  0.222574"
            ]
          },
          "execution_count": 217,
          "metadata": {},
          "output_type": "execute_result"
        }
      ],
      "source": [
        "model_4_valid_perf = model_performance_classification(model, X_valid, y_valid)\n",
        "model_4_valid_perf"
      ]
    },
    {
      "cell_type": "markdown",
      "metadata": {
        "id": "sFhOUq6au-xp"
      },
      "source": [
        "### Neural Network with Balanced Data (by applying SMOTE), Adam Optimizer, and Dropout"
      ]
    },
    {
      "cell_type": "code",
      "execution_count": 218,
      "metadata": {
        "id": "8egmXgW0u-Q0"
      },
      "outputs": [],
      "source": [
        "backend.clear_session()\n",
        "#Fixing the seed for random number generators so that we can ensure we receive the same output everytime\n",
        "np.random.seed(2)\n",
        "random.seed(2)\n",
        "tf.random.set_seed(2)"
      ]
    },
    {
      "cell_type": "code",
      "execution_count": 219,
      "metadata": {},
      "outputs": [],
      "source": [
        "#Initializing the neural network\n",
        "model = Sequential()\n",
        "#Adding the input layer with 32 neurons and relu as activation function\n",
        "model.add(Dense(32,activation='relu',input_dim = X_train_smote.shape[1]))\n",
        "# Complete the code to add dropout with ratio of 0.2 or any suitable value.\n",
        "model.add(Dropout(0.4))\n",
        "# Complete the code to add a hidden layer (specify the # of neurons and the activation function)\n",
        "model.add(Dense(7,activation='relu'))\n",
        "# Complete the code to add dropout with ratio of 0.1 or any suitable value.\n",
        "model.add(Dropout(0.2))\n",
        "# Complete the code to add the number of neurons required in the output layer.\n",
        "model.add(Dense(1, activation = 'sigmoid'))"
      ]
    },
    {
      "cell_type": "code",
      "execution_count": 220,
      "metadata": {},
      "outputs": [
        {
          "name": "stderr",
          "output_type": "stream",
          "text": [
            "WARNING:absl:At this time, the v2.11+ optimizer `tf.keras.optimizers.Adam` runs slowly on M1/M2 Macs, please use the legacy Keras optimizer instead, located at `tf.keras.optimizers.legacy.Adam`.\n"
          ]
        }
      ],
      "source": [
        "optimizer = tf.keras.optimizers.Adam()  # defining SGD as the optimizer to be used\n",
        "metric = keras.metrics.Recall()\n",
        "model.compile(loss=\"binary_crossentropy\", optimizer=optimizer,metrics=[metric])"
      ]
    },
    {
      "cell_type": "code",
      "execution_count": 221,
      "metadata": {},
      "outputs": [
        {
          "name": "stdout",
          "output_type": "stream",
          "text": [
            "Epoch 1/25\n",
            "100/100 [==============================] - 0s 1ms/step - loss: 1.4118 - recall: 0.7860 - val_loss: 0.6638 - val_recall: 0.7025\n",
            "Epoch 2/25\n",
            "100/100 [==============================] - 0s 458us/step - loss: 1.3056 - recall: 0.7032 - val_loss: 0.6136 - val_recall: 0.6779\n",
            "Epoch 3/25\n",
            "100/100 [==============================] - 0s 451us/step - loss: 1.2330 - recall: 0.6687 - val_loss: 0.5826 - val_recall: 0.6963\n",
            "Epoch 4/25\n",
            "100/100 [==============================] - 0s 452us/step - loss: 1.2180 - recall: 0.7040 - val_loss: 0.5730 - val_recall: 0.6994\n",
            "Epoch 5/25\n",
            "100/100 [==============================] - 0s 450us/step - loss: 1.1906 - recall: 0.7032 - val_loss: 0.5549 - val_recall: 0.7055\n",
            "Epoch 6/25\n",
            "100/100 [==============================] - 0s 447us/step - loss: 1.1670 - recall: 0.6979 - val_loss: 0.5350 - val_recall: 0.7055\n",
            "Epoch 7/25\n",
            "100/100 [==============================] - 0s 449us/step - loss: 1.1400 - recall: 0.7140 - val_loss: 0.5368 - val_recall: 0.7362\n",
            "Epoch 8/25\n",
            "100/100 [==============================] - 0s 448us/step - loss: 1.1157 - recall: 0.7071 - val_loss: 0.5157 - val_recall: 0.7393\n",
            "Epoch 9/25\n",
            "100/100 [==============================] - 0s 444us/step - loss: 1.1190 - recall: 0.7078 - val_loss: 0.5070 - val_recall: 0.7393\n",
            "Epoch 10/25\n",
            "100/100 [==============================] - 0s 446us/step - loss: 1.0907 - recall: 0.7063 - val_loss: 0.5223 - val_recall: 0.7699\n",
            "Epoch 11/25\n",
            "100/100 [==============================] - 0s 450us/step - loss: 1.0826 - recall: 0.7331 - val_loss: 0.4999 - val_recall: 0.7546\n",
            "Epoch 12/25\n",
            "100/100 [==============================] - 0s 454us/step - loss: 1.0705 - recall: 0.7178 - val_loss: 0.5049 - val_recall: 0.7699\n",
            "Epoch 13/25\n",
            "100/100 [==============================] - 0s 446us/step - loss: 1.0506 - recall: 0.7285 - val_loss: 0.4902 - val_recall: 0.7515\n",
            "Epoch 14/25\n",
            "100/100 [==============================] - 0s 443us/step - loss: 1.0421 - recall: 0.7531 - val_loss: 0.4872 - val_recall: 0.7546\n",
            "Epoch 15/25\n",
            "100/100 [==============================] - 0s 448us/step - loss: 1.0313 - recall: 0.7301 - val_loss: 0.4828 - val_recall: 0.7485\n",
            "Epoch 16/25\n",
            "100/100 [==============================] - 0s 443us/step - loss: 1.0520 - recall: 0.7155 - val_loss: 0.4983 - val_recall: 0.7791\n",
            "Epoch 17/25\n",
            "100/100 [==============================] - 0s 451us/step - loss: 1.0254 - recall: 0.7431 - val_loss: 0.4812 - val_recall: 0.7423\n",
            "Epoch 18/25\n",
            "100/100 [==============================] - 0s 449us/step - loss: 1.0388 - recall: 0.7224 - val_loss: 0.4888 - val_recall: 0.7515\n",
            "Epoch 19/25\n",
            "100/100 [==============================] - 0s 448us/step - loss: 1.0196 - recall: 0.7209 - val_loss: 0.4737 - val_recall: 0.7301\n",
            "Epoch 20/25\n",
            "100/100 [==============================] - 0s 445us/step - loss: 1.0274 - recall: 0.7025 - val_loss: 0.4886 - val_recall: 0.7485\n",
            "Epoch 21/25\n",
            "100/100 [==============================] - 0s 444us/step - loss: 1.0144 - recall: 0.7393 - val_loss: 0.4786 - val_recall: 0.7362\n",
            "Epoch 22/25\n",
            "100/100 [==============================] - 0s 443us/step - loss: 1.0067 - recall: 0.7316 - val_loss: 0.4698 - val_recall: 0.7331\n",
            "Epoch 23/25\n",
            "100/100 [==============================] - 0s 446us/step - loss: 1.0117 - recall: 0.7293 - val_loss: 0.4843 - val_recall: 0.7393\n",
            "Epoch 24/25\n",
            "100/100 [==============================] - 0s 450us/step - loss: 1.0124 - recall: 0.7308 - val_loss: 0.4788 - val_recall: 0.7239\n",
            "Epoch 25/25\n",
            "100/100 [==============================] - 0s 451us/step - loss: 1.0109 - recall: 0.7262 - val_loss: 0.4826 - val_recall: 0.7239\n"
          ]
        }
      ],
      "source": [
        "start = time.time()\n",
        "\n",
        "history = model.fit(\n",
        "    X_train,\n",
        "    y_train,\n",
        "    validation_data=(X_valid, y_valid),\n",
        "    batch_size=batch_size,\n",
        "    epochs=epochs,\n",
        "    class_weight=cw_dict,\n",
        ")\n",
        "end = time.time()"
      ]
    },
    {
      "cell_type": "code",
      "execution_count": 222,
      "metadata": {},
      "outputs": [
        {
          "name": "stdout",
          "output_type": "stream",
          "text": [
            "Time taken in seconds  1.4124279022216797\n"
          ]
        }
      ],
      "source": [
        "print(\"Time taken in seconds \", end - start)"
      ]
    },
    {
      "cell_type": "code",
      "execution_count": 223,
      "metadata": {},
      "outputs": [
        {
          "data": {
            "image/png": "[encoded data removed]",
            "text/plain": [
              "<Figure size 640x480 with 1 Axes>"
            ]
          },
          "metadata": {},
          "output_type": "display_data"
        }
      ],
      "source": [
        "plot(history, \"loss\")"
      ]
    },
    {
      "cell_type": "code",
      "execution_count": 224,
      "metadata": {},
      "outputs": [
        {
          "name": "stdout",
          "output_type": "stream",
          "text": [
            "319/319 [==============================] - 0s 227us/step\n"
          ]
        },
        {
          "data": {
            "text/html": [
              "<div>\n",
              "<style scoped>\n",
              "    .dataframe tbody tr th:only-of-type {\n",
              "        vertical-align: middle;\n",
              "    }\n",
              "\n",
              "    .dataframe tbody tr th {\n",
              "        vertical-align: top;\n",
              "    }\n",
              "\n",
              "    .dataframe thead th {\n",
              "        text-align: right;\n",
              "    }\n",
              "</style>\n",
              "<table border=\"1\" class=\"dataframe\">\n",
              "  <thead>\n",
              "    <tr style=\"text-align: right;\">\n",
              "      <th></th>\n",
              "      <th>Accuracy</th>\n",
              "      <th>Recall</th>\n",
              "      <th>Precision</th>\n",
              "      <th>F1 Score</th>\n",
              "    </tr>\n",
              "  </thead>\n",
              "  <tbody>\n",
              "    <tr>\n",
              "      <th>0</th>\n",
              "      <td>0.783359</td>\n",
              "      <td>0.783359</td>\n",
              "      <td>0.783567</td>\n",
              "      <td>0.78332</td>\n",
              "    </tr>\n",
              "  </tbody>\n",
              "</table>\n",
              "</div>"
            ],
            "text/plain": [
              "   Accuracy    Recall  Precision  F1 Score\n",
              "0  0.783359  0.783359   0.783567   0.78332"
            ]
          },
          "execution_count": 224,
          "metadata": {},
          "output_type": "execute_result"
        }
      ],
      "source": [
        "model_5_train_perf = model_performance_classification(model, X_train_smote, y_train_smote)\n",
        "model_5_train_perf"
      ]
    },
    {
      "cell_type": "code",
      "execution_count": 225,
      "metadata": {},
      "outputs": [
        {
          "name": "stdout",
          "output_type": "stream",
          "text": [
            "50/50 [==============================] - 0s 250us/step\n"
          ]
        },
        {
          "data": {
            "text/html": [
              "<div>\n",
              "<style scoped>\n",
              "    .dataframe tbody tr th:only-of-type {\n",
              "        vertical-align: middle;\n",
              "    }\n",
              "\n",
              "    .dataframe tbody tr th {\n",
              "        vertical-align: top;\n",
              "    }\n",
              "\n",
              "    .dataframe thead th {\n",
              "        text-align: right;\n",
              "    }\n",
              "</style>\n",
              "<table border=\"1\" class=\"dataframe\">\n",
              "  <thead>\n",
              "    <tr style=\"text-align: right;\">\n",
              "      <th></th>\n",
              "      <th>Accuracy</th>\n",
              "      <th>Recall</th>\n",
              "      <th>Precision</th>\n",
              "      <th>F1 Score</th>\n",
              "    </tr>\n",
              "  </thead>\n",
              "  <tbody>\n",
              "    <tr>\n",
              "      <th>0</th>\n",
              "      <td>0.77125</td>\n",
              "      <td>0.77125</td>\n",
              "      <td>0.8243</td>\n",
              "      <td>0.78763</td>\n",
              "    </tr>\n",
              "  </tbody>\n",
              "</table>\n",
              "</div>"
            ],
            "text/plain": [
              "   Accuracy   Recall  Precision  F1 Score\n",
              "0   0.77125  0.77125     0.8243   0.78763"
            ]
          },
          "execution_count": 225,
          "metadata": {},
          "output_type": "execute_result"
        }
      ],
      "source": [
        "model_5_valid_perf = model_performance_classification(model, X_valid, y_valid)\n",
        "model_5_valid_perf"
      ]
    },
    {
      "cell_type": "markdown",
      "metadata": {
        "id": "rTSK-_5YvBIR"
      },
      "source": [
        "## Neural Network SMOTE and Adam Optimizer"
      ]
    },
    {
      "cell_type": "code",
      "execution_count": 226,
      "metadata": {
        "id": "3Jqa4h2yuuE7"
      },
      "outputs": [],
      "source": [
        "backend.clear_session()\n",
        "#Fixing the seed for random number generators so that we can ensure we receive the same output everytime\n",
        "np.random.seed(2)\n",
        "random.seed(2)\n",
        "tf.random.set_seed(2)"
      ]
    },
    {
      "cell_type": "code",
      "execution_count": 227,
      "metadata": {},
      "outputs": [],
      "source": [
        "# Initializing the neural network\n",
        "model = Sequential()\n",
        "model.add(Dense(14, activation=\"relu\", input_dim=X_train_smote.shape[1]))\n",
        "model.add(Dense(7, activation=\"relu\"))\n",
        "model.add(Dense(1, activation=\"sigmoid\"))"
      ]
    },
    {
      "cell_type": "code",
      "execution_count": 228,
      "metadata": {},
      "outputs": [
        {
          "name": "stdout",
          "output_type": "stream",
          "text": [
            "Model: \"sequential\"\n",
            "_________________________________________________________________\n",
            " Layer (type)                Output Shape              Param #   \n",
            "=================================================================\n",
            " dense (Dense)               (None, 14)                168       \n",
            "                                                                 \n",
            " dense_1 (Dense)             (None, 7)                 105       \n",
            "                                                                 \n",
            " dense_2 (Dense)             (None, 1)                 8         \n",
            "                                                                 \n",
            "=================================================================\n",
            "Total params: 281 (1.10 KB)\n",
            "Trainable params: 281 (1.10 KB)\n",
            "Non-trainable params: 0 (0.00 Byte)\n",
            "_________________________________________________________________\n"
          ]
        }
      ],
      "source": [
        "model.summary()"
      ]
    },
    {
      "cell_type": "code",
      "execution_count": 229,
      "metadata": {},
      "outputs": [
        {
          "name": "stderr",
          "output_type": "stream",
          "text": [
            "WARNING:absl:At this time, the v2.11+ optimizer `tf.keras.optimizers.Adam` runs slowly on M1/M2 Macs, please use the legacy Keras optimizer instead, located at `tf.keras.optimizers.legacy.Adam`.\n"
          ]
        }
      ],
      "source": [
        "optimizer = tf.keras.optimizers.Adam()  # defining SGD as the optimizer to be used\n",
        "metric = keras.metrics.Recall()\n",
        "model.compile(loss=\"binary_crossentropy\", optimizer=optimizer,metrics=[metric])"
      ]
    },
    {
      "cell_type": "code",
      "execution_count": 230,
      "metadata": {},
      "outputs": [
        {
          "name": "stdout",
          "output_type": "stream",
          "text": [
            "Epoch 1/25\n",
            "160/160 [==============================] - 0s 758us/step - loss: 1.4955 - recall: 0.9971 - val_loss: 1.1502 - val_recall: 0.9969\n",
            "Epoch 2/25\n",
            "160/160 [==============================] - 0s 393us/step - loss: 1.3104 - recall: 0.9872 - val_loss: 1.0330 - val_recall: 0.9755\n",
            "Epoch 3/25\n",
            "160/160 [==============================] - 0s 391us/step - loss: 1.1906 - recall: 0.9714 - val_loss: 0.8861 - val_recall: 0.9417\n",
            "Epoch 4/25\n",
            "160/160 [==============================] - 0s 392us/step - loss: 1.1241 - recall: 0.9588 - val_loss: 0.9223 - val_recall: 0.9479\n",
            "Epoch 5/25\n",
            "160/160 [==============================] - 0s 390us/step - loss: 1.0972 - recall: 0.9568 - val_loss: 0.8816 - val_recall: 0.9387\n",
            "Epoch 6/25\n",
            "160/160 [==============================] - 0s 389us/step - loss: 1.0849 - recall: 0.9558 - val_loss: 0.8512 - val_recall: 0.9356\n",
            "Epoch 7/25\n",
            "160/160 [==============================] - 0s 393us/step - loss: 1.0768 - recall: 0.9547 - val_loss: 0.8396 - val_recall: 0.9356\n",
            "Epoch 8/25\n",
            "160/160 [==============================] - 0s 392us/step - loss: 1.0692 - recall: 0.9551 - val_loss: 0.8391 - val_recall: 0.9356\n",
            "Epoch 9/25\n",
            "160/160 [==============================] - 0s 388us/step - loss: 1.0654 - recall: 0.9523 - val_loss: 0.9216 - val_recall: 0.9479\n",
            "Epoch 10/25\n",
            "160/160 [==============================] - 0s 390us/step - loss: 1.0609 - recall: 0.9517 - val_loss: 0.8408 - val_recall: 0.9387\n",
            "Epoch 11/25\n",
            "160/160 [==============================] - 0s 389us/step - loss: 1.0565 - recall: 0.9557 - val_loss: 0.8550 - val_recall: 0.9387\n",
            "Epoch 12/25\n",
            "160/160 [==============================] - 0s 393us/step - loss: 1.0528 - recall: 0.9537 - val_loss: 0.8357 - val_recall: 0.9387\n",
            "Epoch 13/25\n",
            "160/160 [==============================] - 0s 390us/step - loss: 1.0493 - recall: 0.9517 - val_loss: 0.8177 - val_recall: 0.9387\n",
            "Epoch 14/25\n",
            "160/160 [==============================] - 0s 390us/step - loss: 1.0467 - recall: 0.9527 - val_loss: 0.8597 - val_recall: 0.9448\n",
            "Epoch 15/25\n",
            "160/160 [==============================] - 0s 390us/step - loss: 1.0436 - recall: 0.9543 - val_loss: 0.8535 - val_recall: 0.9417\n",
            "Epoch 16/25\n",
            "160/160 [==============================] - 0s 388us/step - loss: 1.0417 - recall: 0.9521 - val_loss: 0.8272 - val_recall: 0.9387\n",
            "Epoch 17/25\n",
            "160/160 [==============================] - 0s 390us/step - loss: 1.0389 - recall: 0.9525 - val_loss: 0.8650 - val_recall: 0.9448\n",
            "Epoch 18/25\n",
            "160/160 [==============================] - 0s 388us/step - loss: 1.0376 - recall: 0.9511 - val_loss: 0.8162 - val_recall: 0.9417\n",
            "Epoch 19/25\n",
            "160/160 [==============================] - 0s 390us/step - loss: 1.0362 - recall: 0.9525 - val_loss: 0.8331 - val_recall: 0.9417\n",
            "Epoch 20/25\n",
            "160/160 [==============================] - 0s 391us/step - loss: 1.0338 - recall: 0.9531 - val_loss: 0.8685 - val_recall: 0.9448\n",
            "Epoch 21/25\n",
            "160/160 [==============================] - 0s 389us/step - loss: 1.0327 - recall: 0.9523 - val_loss: 0.8468 - val_recall: 0.9417\n",
            "Epoch 22/25\n",
            "160/160 [==============================] - 0s 391us/step - loss: 1.0299 - recall: 0.9519 - val_loss: 0.8207 - val_recall: 0.9387\n",
            "Epoch 23/25\n",
            "160/160 [==============================] - 0s 387us/step - loss: 1.0275 - recall: 0.9517 - val_loss: 0.8775 - val_recall: 0.9387\n",
            "Epoch 24/25\n",
            "160/160 [==============================] - 0s 387us/step - loss: 1.0258 - recall: 0.9505 - val_loss: 0.8138 - val_recall: 0.9387\n",
            "Epoch 25/25\n",
            "160/160 [==============================] - 0s 388us/step - loss: 1.0226 - recall: 0.9523 - val_loss: 0.8578 - val_recall: 0.9387\n"
          ]
        }
      ],
      "source": [
        "start = time.time()\n",
        "history = model.fit(\n",
        "    X_train_smote,\n",
        "    y_train_smote,\n",
        "    validation_data=(X_valid, y_valid),\n",
        "    batch_size=batch_size,\n",
        "    epochs=epochs,\n",
        "    class_weight=cw_dict,\n",
        ")\n",
        "end = time.time()"
      ]
    },
    {
      "cell_type": "code",
      "execution_count": 231,
      "metadata": {},
      "outputs": [
        {
          "name": "stdout",
          "output_type": "stream",
          "text": [
            "Time taken in seconds  1.8633239269256592\n"
          ]
        }
      ],
      "source": [
        "print(\"Time taken in seconds \", end - start)"
      ]
    },
    {
      "cell_type": "code",
      "execution_count": 232,
      "metadata": {},
      "outputs": [
        {
          "data": {
            "image/png": "[encoded data removed]",
            "text/plain": [
              "<Figure size 640x480 with 1 Axes>"
            ]
          },
          "metadata": {},
          "output_type": "display_data"
        }
      ],
      "source": [
        "plot(history, \"loss\")"
      ]
    },
    {
      "cell_type": "code",
      "execution_count": 233,
      "metadata": {},
      "outputs": [
        {
          "name": "stdout",
          "output_type": "stream",
          "text": [
            "319/319 [==============================] - 0s 224us/step\n"
          ]
        },
        {
          "data": {
            "text/html": [
              "<div>\n",
              "<style scoped>\n",
              "    .dataframe tbody tr th:only-of-type {\n",
              "        vertical-align: middle;\n",
              "    }\n",
              "\n",
              "    .dataframe tbody tr th {\n",
              "        vertical-align: top;\n",
              "    }\n",
              "\n",
              "    .dataframe thead th {\n",
              "        text-align: right;\n",
              "    }\n",
              "</style>\n",
              "<table border=\"1\" class=\"dataframe\">\n",
              "  <thead>\n",
              "    <tr style=\"text-align: right;\">\n",
              "      <th></th>\n",
              "      <th>Accuracy</th>\n",
              "      <th>Recall</th>\n",
              "      <th>Precision</th>\n",
              "      <th>F1 Score</th>\n",
              "    </tr>\n",
              "  </thead>\n",
              "  <tbody>\n",
              "    <tr>\n",
              "      <th>0</th>\n",
              "      <td>0.713206</td>\n",
              "      <td>0.713206</td>\n",
              "      <td>0.782002</td>\n",
              "      <td>0.694579</td>\n",
              "    </tr>\n",
              "  </tbody>\n",
              "</table>\n",
              "</div>"
            ],
            "text/plain": [
              "   Accuracy    Recall  Precision  F1 Score\n",
              "0  0.713206  0.713206   0.782002  0.694579"
            ]
          },
          "execution_count": 233,
          "metadata": {},
          "output_type": "execute_result"
        }
      ],
      "source": [
        "model_6_train_perf = model_performance_classification(model, X_train_smote, y_train_smote)\n",
        "model_6_train_perf"
      ]
    },
    {
      "cell_type": "code",
      "execution_count": 234,
      "metadata": {},
      "outputs": [
        {
          "name": "stdout",
          "output_type": "stream",
          "text": [
            "50/50 [==============================] - 0s 237us/step\n"
          ]
        },
        {
          "data": {
            "text/html": [
              "<div>\n",
              "<style scoped>\n",
              "    .dataframe tbody tr th:only-of-type {\n",
              "        vertical-align: middle;\n",
              "    }\n",
              "\n",
              "    .dataframe tbody tr th {\n",
              "        vertical-align: top;\n",
              "    }\n",
              "\n",
              "    .dataframe thead th {\n",
              "        text-align: right;\n",
              "    }\n",
              "</style>\n",
              "<table border=\"1\" class=\"dataframe\">\n",
              "  <thead>\n",
              "    <tr style=\"text-align: right;\">\n",
              "      <th></th>\n",
              "      <th>Accuracy</th>\n",
              "      <th>Recall</th>\n",
              "      <th>Precision</th>\n",
              "      <th>F1 Score</th>\n",
              "    </tr>\n",
              "  </thead>\n",
              "  <tbody>\n",
              "    <tr>\n",
              "      <th>0</th>\n",
              "      <td>0.54625</td>\n",
              "      <td>0.54625</td>\n",
              "      <td>0.830775</td>\n",
              "      <td>0.578985</td>\n",
              "    </tr>\n",
              "  </tbody>\n",
              "</table>\n",
              "</div>"
            ],
            "text/plain": [
              "   Accuracy   Recall  Precision  F1 Score\n",
              "0   0.54625  0.54625   0.830775  0.578985"
            ]
          },
          "execution_count": 234,
          "metadata": {},
          "output_type": "execute_result"
        }
      ],
      "source": [
        "model_6_valid_perf = model_performance_classification(model, X_valid, y_valid)\n",
        "model_6_valid_perf"
      ]
    },
    {
      "cell_type": "markdown",
      "metadata": {
        "id": "srfZVuMKc6Y_"
      },
      "source": [
        "## Model Performance Comparison and Final Model Selection"
      ]
    },
    {
      "cell_type": "code",
      "execution_count": 235,
      "metadata": {},
      "outputs": [],
      "source": [
        "# training performance comparison\n",
        "\n",
        "models_train_comp_df = pd.concat(\n",
        "    [\n",
        "        model_0_train_perf.T,\n",
        "        model_1_train_perf.T,\n",
        "        model_2_train_perf.T,\n",
        "        model_3_train_perf.T,\n",
        "        model_4_train_perf.T,\n",
        "        model_5_train_perf.T,\n",
        "        model_6_train_perf.T\n",
        "    ],\n",
        "    axis=1,\n",
        ")\n",
        "models_train_comp_df.columns = [\n",
        "    \"1. Neural Network with SGD Optimizer\",\n",
        "    \"2. Neural Network SGD with Momentum\",\n",
        "    \"3. Neural Network with Adam\",\n",
        "    \"4. Neural Network with Adam and Drop Out\",\n",
        "    \"5. Neural Network with SMOTE and SGD Optimizer\",\n",
        "    \"5. Neural Network with SMOTE, SGD Optimizer & Drop Out\",\n",
        "    \"6. Neural Network SMOTE and Adam Optimizer\"\n",
        "]"
      ]
    },
    {
      "cell_type": "code",
      "execution_count": 236,
      "metadata": {},
      "outputs": [],
      "source": [
        "#Validation performance comparison\n",
        "\n",
        "models_valid_comp_df = pd.concat(\n",
        "    [\n",
        "        model_0_valid_perf.T,\n",
        "        model_1_valid_perf.T,\n",
        "        model_2_valid_perf.T,\n",
        "        model_3_valid_perf.T,\n",
        "        model_4_valid_perf.T,\n",
        "        model_5_valid_perf.T,\n",
        "        model_6_valid_perf.T\n",
        "    ],\n",
        "    axis=1,\n",
        ")\n",
        "models_valid_comp_df.columns = [\n",
        "    \"1. Neural Network with SGD Optimizer\",\n",
        "    \"2. Neural Network SGD with Momentum\",\n",
        "    \"3. Neural Network with Adam\",\n",
        "    \"4. Neural Network with Adam and Drop Out\",\n",
        "    \"5. Neural Network with SMOTE and SGD Optimizer\",\n",
        "    \"5. Neural Network with SMOTE, SGD Optimizer & Drop Out\",\n",
        "    \"6. Neural Network SMOTE and Adam Optimizer\"\n",
        "]"
      ]
    },
    {
      "cell_type": "code",
      "execution_count": 237,
      "metadata": {},
      "outputs": [
        {
          "data": {
            "text/html": [
              "<div>\n",
              "<style scoped>\n",
              "    .dataframe tbody tr th:only-of-type {\n",
              "        vertical-align: middle;\n",
              "    }\n",
              "\n",
              "    .dataframe tbody tr th {\n",
              "        vertical-align: top;\n",
              "    }\n",
              "\n",
              "    .dataframe thead th {\n",
              "        text-align: right;\n",
              "    }\n",
              "</style>\n",
              "<table border=\"1\" class=\"dataframe\">\n",
              "  <thead>\n",
              "    <tr style=\"text-align: right;\">\n",
              "      <th></th>\n",
              "      <th>1. Neural Network with SGD Optimizer</th>\n",
              "      <th>2. Neural Network SGD with Momentum</th>\n",
              "      <th>3. Neural Network with Adam</th>\n",
              "      <th>4. Neural Network with Adam and Drop Out</th>\n",
              "      <th>5. Neural Network with SMOTE and SGD Optimizer</th>\n",
              "      <th>5. Neural Network with SMOTE, SGD Optimizer &amp; Drop Out</th>\n",
              "      <th>6. Neural Network SMOTE and Adam Optimizer</th>\n",
              "    </tr>\n",
              "  </thead>\n",
              "  <tbody>\n",
              "    <tr>\n",
              "      <th>Accuracy</th>\n",
              "      <td>0.783750</td>\n",
              "      <td>0.835469</td>\n",
              "      <td>0.791562</td>\n",
              "      <td>0.697656</td>\n",
              "      <td>0.544152</td>\n",
              "      <td>0.783359</td>\n",
              "      <td>0.713206</td>\n",
              "    </tr>\n",
              "    <tr>\n",
              "      <th>Recall</th>\n",
              "      <td>0.783750</td>\n",
              "      <td>0.835469</td>\n",
              "      <td>0.791562</td>\n",
              "      <td>0.697656</td>\n",
              "      <td>0.544152</td>\n",
              "      <td>0.783359</td>\n",
              "      <td>0.713206</td>\n",
              "    </tr>\n",
              "    <tr>\n",
              "      <th>Precision</th>\n",
              "      <td>0.836721</td>\n",
              "      <td>0.850901</td>\n",
              "      <td>0.844585</td>\n",
              "      <td>0.827779</td>\n",
              "      <td>0.716213</td>\n",
              "      <td>0.783567</td>\n",
              "      <td>0.782002</td>\n",
              "    </tr>\n",
              "    <tr>\n",
              "      <th>F1 Score</th>\n",
              "      <td>0.799411</td>\n",
              "      <td>0.841275</td>\n",
              "      <td>0.806778</td>\n",
              "      <td>0.726788</td>\n",
              "      <td>0.430939</td>\n",
              "      <td>0.783320</td>\n",
              "      <td>0.694579</td>\n",
              "    </tr>\n",
              "  </tbody>\n",
              "</table>\n",
              "</div>"
            ],
            "text/plain": [
              "           1. Neural Network with SGD Optimizer  \\\n",
              "Accuracy                               0.783750   \n",
              "Recall                                 0.783750   \n",
              "Precision                              0.836721   \n",
              "F1 Score                               0.799411   \n",
              "\n",
              "           2. Neural Network SGD with Momentum  3. Neural Network with Adam  \\\n",
              "Accuracy                              0.835469                     0.791562   \n",
              "Recall                                0.835469                     0.791562   \n",
              "Precision                             0.850901                     0.844585   \n",
              "F1 Score                              0.841275                     0.806778   \n",
              "\n",
              "           4. Neural Network with Adam and Drop Out  \\\n",
              "Accuracy                                   0.697656   \n",
              "Recall                                     0.697656   \n",
              "Precision                                  0.827779   \n",
              "F1 Score                                   0.726788   \n",
              "\n",
              "           5. Neural Network with SMOTE and SGD Optimizer  \\\n",
              "Accuracy                                         0.544152   \n",
              "Recall                                           0.544152   \n",
              "Precision                                        0.716213   \n",
              "F1 Score                                         0.430939   \n",
              "\n",
              "           5. Neural Network with SMOTE, SGD Optimizer & Drop Out  \\\n",
              "Accuracy                                            0.783359        \n",
              "Recall                                              0.783359        \n",
              "Precision                                           0.783567        \n",
              "F1 Score                                            0.783320        \n",
              "\n",
              "           6. Neural Network SMOTE and Adam Optimizer  \n",
              "Accuracy                                     0.713206  \n",
              "Recall                                       0.713206  \n",
              "Precision                                    0.782002  \n",
              "F1 Score                                     0.694579  "
            ]
          },
          "execution_count": 237,
          "metadata": {},
          "output_type": "execute_result"
        }
      ],
      "source": [
        "models_train_comp_df"
      ]
    },
    {
      "cell_type": "code",
      "execution_count": 238,
      "metadata": {},
      "outputs": [
        {
          "data": {
            "text/html": [
              "<div>\n",
              "<style scoped>\n",
              "    .dataframe tbody tr th:only-of-type {\n",
              "        vertical-align: middle;\n",
              "    }\n",
              "\n",
              "    .dataframe tbody tr th {\n",
              "        vertical-align: top;\n",
              "    }\n",
              "\n",
              "    .dataframe thead th {\n",
              "        text-align: right;\n",
              "    }\n",
              "</style>\n",
              "<table border=\"1\" class=\"dataframe\">\n",
              "  <thead>\n",
              "    <tr style=\"text-align: right;\">\n",
              "      <th></th>\n",
              "      <th>1. Neural Network with SGD Optimizer</th>\n",
              "      <th>2. Neural Network SGD with Momentum</th>\n",
              "      <th>3. Neural Network with Adam</th>\n",
              "      <th>4. Neural Network with Adam and Drop Out</th>\n",
              "      <th>5. Neural Network with SMOTE and SGD Optimizer</th>\n",
              "      <th>5. Neural Network with SMOTE, SGD Optimizer &amp; Drop Out</th>\n",
              "      <th>6. Neural Network SMOTE and Adam Optimizer</th>\n",
              "    </tr>\n",
              "  </thead>\n",
              "  <tbody>\n",
              "    <tr>\n",
              "      <th>Accuracy</th>\n",
              "      <td>0.771875</td>\n",
              "      <td>0.826875</td>\n",
              "      <td>0.785000</td>\n",
              "      <td>0.696875</td>\n",
              "      <td>0.282500</td>\n",
              "      <td>0.77125</td>\n",
              "      <td>0.546250</td>\n",
              "    </tr>\n",
              "    <tr>\n",
              "      <th>Recall</th>\n",
              "      <td>0.771875</td>\n",
              "      <td>0.826875</td>\n",
              "      <td>0.785000</td>\n",
              "      <td>0.696875</td>\n",
              "      <td>0.282500</td>\n",
              "      <td>0.77125</td>\n",
              "      <td>0.546250</td>\n",
              "    </tr>\n",
              "    <tr>\n",
              "      <th>Precision</th>\n",
              "      <td>0.822631</td>\n",
              "      <td>0.839658</td>\n",
              "      <td>0.839953</td>\n",
              "      <td>0.827149</td>\n",
              "      <td>0.800955</td>\n",
              "      <td>0.82430</td>\n",
              "      <td>0.830775</td>\n",
              "    </tr>\n",
              "    <tr>\n",
              "      <th>F1 Score</th>\n",
              "      <td>0.787826</td>\n",
              "      <td>0.832006</td>\n",
              "      <td>0.800888</td>\n",
              "      <td>0.726084</td>\n",
              "      <td>0.222574</td>\n",
              "      <td>0.78763</td>\n",
              "      <td>0.578985</td>\n",
              "    </tr>\n",
              "  </tbody>\n",
              "</table>\n",
              "</div>"
            ],
            "text/plain": [
              "           1. Neural Network with SGD Optimizer  \\\n",
              "Accuracy                               0.771875   \n",
              "Recall                                 0.771875   \n",
              "Precision                              0.822631   \n",
              "F1 Score                               0.787826   \n",
              "\n",
              "           2. Neural Network SGD with Momentum  3. Neural Network with Adam  \\\n",
              "Accuracy                              0.826875                     0.785000   \n",
              "Recall                                0.826875                     0.785000   \n",
              "Precision                             0.839658                     0.839953   \n",
              "F1 Score                              0.832006                     0.800888   \n",
              "\n",
              "           4. Neural Network with Adam and Drop Out  \\\n",
              "Accuracy                                   0.696875   \n",
              "Recall                                     0.696875   \n",
              "Precision                                  0.827149   \n",
              "F1 Score                                   0.726084   \n",
              "\n",
              "           5. Neural Network with SMOTE and SGD Optimizer  \\\n",
              "Accuracy                                         0.282500   \n",
              "Recall                                           0.282500   \n",
              "Precision                                        0.800955   \n",
              "F1 Score                                         0.222574   \n",
              "\n",
              "           5. Neural Network with SMOTE, SGD Optimizer & Drop Out  \\\n",
              "Accuracy                                             0.77125        \n",
              "Recall                                               0.77125        \n",
              "Precision                                            0.82430        \n",
              "F1 Score                                             0.78763        \n",
              "\n",
              "           6. Neural Network SMOTE and Adam Optimizer  \n",
              "Accuracy                                     0.546250  \n",
              "Recall                                       0.546250  \n",
              "Precision                                    0.830775  \n",
              "F1 Score                                     0.578985  "
            ]
          },
          "execution_count": 238,
          "metadata": {},
          "output_type": "execute_result"
        }
      ],
      "source": [
        "models_valid_comp_df"
      ]
    },
    {
      "cell_type": "markdown",
      "metadata": {},
      "source": [
        "### Final Model"
      ]
    },
    {
      "cell_type": "code",
      "execution_count": 239,
      "metadata": {},
      "outputs": [],
      "source": [
        "# clears the current Keras session, resetting all layers and models previously created, freeing up memory and resources.\n",
        "tf.keras.backend.clear_session()"
      ]
    },
    {
      "cell_type": "code",
      "execution_count": 240,
      "metadata": {},
      "outputs": [],
      "source": [
        "#Initializing the neural network\n",
        "model = Sequential()\n",
        "model.add(Dense(14,activation=\"relu\",input_dim=X_train.shape[1]))\n",
        "model.add(Dense(7,activation=\"relu\"))\n",
        "model.add(Dense(1,activation=\"sigmoid\"))"
      ]
    },
    {
      "cell_type": "code",
      "execution_count": 241,
      "metadata": {},
      "outputs": [
        {
          "name": "stdout",
          "output_type": "stream",
          "text": [
            "Model: \"sequential\"\n",
            "_________________________________________________________________\n",
            " Layer (type)                Output Shape              Param #   \n",
            "=================================================================\n",
            " dense (Dense)               (None, 14)                168       \n",
            "                                                                 \n",
            " dense_1 (Dense)             (None, 7)                 105       \n",
            "                                                                 \n",
            " dense_2 (Dense)             (None, 1)                 8         \n",
            "                                                                 \n",
            "=================================================================\n",
            "Total params: 281 (1.10 KB)\n",
            "Trainable params: 281 (1.10 KB)\n",
            "Non-trainable params: 0 (0.00 Byte)\n",
            "_________________________________________________________________\n"
          ]
        }
      ],
      "source": [
        "model.summary()"
      ]
    },
    {
      "cell_type": "code",
      "execution_count": 242,
      "metadata": {},
      "outputs": [
        {
          "name": "stderr",
          "output_type": "stream",
          "text": [
            "WARNING:absl:At this time, the v2.11+ optimizer `tf.keras.optimizers.SGD` runs slowly on M1/M2 Macs, please use the legacy Keras optimizer instead, located at `tf.keras.optimizers.legacy.SGD`.\n"
          ]
        }
      ],
      "source": [
        "optimizer = tf.keras.optimizers.SGD()    # defining SGD as the optimizer to be used\n",
        "model.compile(loss='binary_crossentropy', optimizer=optimizer)"
      ]
    },
    {
      "cell_type": "code",
      "execution_count": 243,
      "metadata": {},
      "outputs": [
        {
          "name": "stdout",
          "output_type": "stream",
          "text": [
            "Epoch 1/25\n",
            "100/100 [==============================] - 0s 786us/step - loss: 1.3607 - val_loss: 0.6583\n",
            "Epoch 2/25\n",
            "100/100 [==============================] - 0s 396us/step - loss: 1.3129 - val_loss: 0.6427\n",
            "Epoch 3/25\n",
            "100/100 [==============================] - 0s 390us/step - loss: 1.2749 - val_loss: 0.6308\n",
            "Epoch 4/25\n",
            "100/100 [==============================] - 0s 395us/step - loss: 1.2377 - val_loss: 0.6093\n",
            "Epoch 5/25\n",
            "100/100 [==============================] - 0s 390us/step - loss: 1.2024 - val_loss: 0.5807\n",
            "Epoch 6/25\n",
            "100/100 [==============================] - 0s 386us/step - loss: 1.1719 - val_loss: 0.5743\n",
            "Epoch 7/25\n",
            "100/100 [==============================] - 0s 389us/step - loss: 1.1458 - val_loss: 0.5686\n",
            "Epoch 8/25\n",
            "100/100 [==============================] - 0s 382us/step - loss: 1.1230 - val_loss: 0.5592\n",
            "Epoch 9/25\n",
            "100/100 [==============================] - 0s 389us/step - loss: 1.1028 - val_loss: 0.5401\n",
            "Epoch 10/25\n",
            "100/100 [==============================] - 0s 384us/step - loss: 1.0839 - val_loss: 0.5629\n",
            "Epoch 11/25\n",
            "100/100 [==============================] - 0s 389us/step - loss: 1.0663 - val_loss: 0.5467\n",
            "Epoch 12/25\n",
            "100/100 [==============================] - 0s 387us/step - loss: 1.0494 - val_loss: 0.5457\n",
            "Epoch 13/25\n",
            "100/100 [==============================] - 0s 387us/step - loss: 1.0349 - val_loss: 0.5273\n",
            "Epoch 14/25\n",
            "100/100 [==============================] - 0s 395us/step - loss: 1.0208 - val_loss: 0.5005\n",
            "Epoch 15/25\n",
            "100/100 [==============================] - 0s 388us/step - loss: 1.0093 - val_loss: 0.5040\n",
            "Epoch 16/25\n",
            "100/100 [==============================] - 0s 382us/step - loss: 0.9990 - val_loss: 0.5105\n",
            "Epoch 17/25\n",
            "100/100 [==============================] - 0s 385us/step - loss: 0.9902 - val_loss: 0.5096\n",
            "Epoch 18/25\n",
            "100/100 [==============================] - 0s 389us/step - loss: 0.9816 - val_loss: 0.5049\n",
            "Epoch 19/25\n",
            "100/100 [==============================] - 0s 387us/step - loss: 0.9752 - val_loss: 0.4926\n",
            "Epoch 20/25\n",
            "100/100 [==============================] - 0s 388us/step - loss: 0.9704 - val_loss: 0.5073\n",
            "Epoch 21/25\n",
            "100/100 [==============================] - 0s 384us/step - loss: 0.9656 - val_loss: 0.5043\n",
            "Epoch 22/25\n",
            "100/100 [==============================] - 0s 388us/step - loss: 0.9612 - val_loss: 0.4902\n",
            "Epoch 23/25\n",
            "100/100 [==============================] - 0s 385us/step - loss: 0.9585 - val_loss: 0.4880\n",
            "Epoch 24/25\n",
            "100/100 [==============================] - 0s 390us/step - loss: 0.9551 - val_loss: 0.4789\n",
            "Epoch 25/25\n",
            "100/100 [==============================] - 0s 392us/step - loss: 0.9529 - val_loss: 0.4813\n"
          ]
        }
      ],
      "source": [
        "start = time.time()\n",
        "history = model.fit(X_train, y_train, validation_data=(X_valid,y_valid) , batch_size=batch_size, epochs=epochs,class_weight=cw_dict)\n",
        "end=time.time()"
      ]
    },
    {
      "cell_type": "code",
      "execution_count": 244,
      "metadata": {},
      "outputs": [
        {
          "name": "stdout",
          "output_type": "stream",
          "text": [
            "200/200 [==============================] - 0s 213us/step\n",
            "50/50 [==============================] - 0s 220us/step\n",
            "63/63 [==============================] - 0s 224us/step\n"
          ]
        }
      ],
      "source": [
        "y_train_pred = model.predict(X_train)\n",
        "y_valid_pred = model.predict(X_valid)\n",
        "y_test_pred = model.predict(X_test)"
      ]
    },
    {
      "cell_type": "code",
      "execution_count": 245,
      "metadata": {},
      "outputs": [
        {
          "name": "stdout",
          "output_type": "stream",
          "text": [
            "Classification Report - Train data\n",
            "\n",
            "              precision    recall  f1-score   support\n",
            "\n",
            "           0       0.93      0.77      0.84      5096\n",
            "           1       0.46      0.76      0.58      1304\n",
            "\n",
            "    accuracy                           0.77      6400\n",
            "   macro avg       0.70      0.77      0.71      6400\n",
            "weighted avg       0.83      0.77      0.79      6400\n",
            "\n"
          ]
        }
      ],
      "source": [
        "print(\"Classification Report - Train data\",end=\"\\n\\n\")\n",
        "cr = classification_report(y_train,y_train_pred>0.5)\n",
        "print(cr)"
      ]
    },
    {
      "cell_type": "code",
      "execution_count": 246,
      "metadata": {},
      "outputs": [
        {
          "name": "stdout",
          "output_type": "stream",
          "text": [
            "Classification Report - Validation data\n",
            "\n",
            "              precision    recall  f1-score   support\n",
            "\n",
            "           0       0.92      0.76      0.83      1274\n",
            "           1       0.44      0.73      0.55       326\n",
            "\n",
            "    accuracy                           0.75      1600\n",
            "   macro avg       0.68      0.75      0.69      1600\n",
            "weighted avg       0.82      0.75      0.77      1600\n",
            "\n"
          ]
        }
      ],
      "source": [
        "print(\"Classification Report - Validation data\",end=\"\\n\\n\")\n",
        "cr = classification_report(y_valid,y_valid_pred>0.5)\n",
        "print(cr)"
      ]
    },
    {
      "cell_type": "code",
      "execution_count": 247,
      "metadata": {},
      "outputs": [
        {
          "name": "stdout",
          "output_type": "stream",
          "text": [
            "Classification Report - Test data\n",
            "\n",
            "              precision    recall  f1-score   support\n",
            "\n",
            "           0       0.93      0.75      0.83      1593\n",
            "           1       0.44      0.77      0.56       407\n",
            "\n",
            "    accuracy                           0.76      2000\n",
            "   macro avg       0.69      0.76      0.70      2000\n",
            "weighted avg       0.83      0.76      0.78      2000\n",
            "\n"
          ]
        }
      ],
      "source": [
        "print(\"Classification Report - Test data\",end=\"\\n\\n\")\n",
        "cr = classification_report(y_test,y_test_pred>0.5)\n",
        "print(cr)"
      ]
    },
    {
      "cell_type": "markdown",
      "metadata": {
        "id": "XE1iHOqqOEmV"
      },
      "source": [
        "## Actionable Insights and Business Recommendations"
      ]
    },
    {
      "cell_type": "markdown",
      "metadata": {
        "id": "ouNNiEhUdhZL"
      },
      "source": [
        "Neural Network Model SGD & momentum is providing very high recall. If the model predicts a Yes, then initiate contact and provide offers to them to retain their account.\n",
        "\n"
      ]
    },
    {
      "cell_type": "markdown",
      "metadata": {
        "id": "6R23W-K3CmM9"
      },
      "source": [
        "<font size=6 color='blue'>Power Ahead</font>\n",
        "___"
      ]
    }
  ],
  "metadata": {
    "accelerator": "GPU",
    "colab": {
      "collapsed_sections": [
        "Q__obHNhdHtV",
        "WSyQJZSAaPA3",
        "s749lpTNaRkN",
        "Tsb28swdaVAs",
        "FHHrSIl4c6Yn",
        "z7ubXtC8HUOA",
        "eRxrJ2MHd_Sf",
        "W036jsgwRdVN",
        "nSFkV8KJiZSv",
        "OlHTHF4glMxS",
        "CUXPaUwZHUO8",
        "1nEEjgwleiMv",
        "wgpx0xlSTlzN",
        "qlSyq5fNHUPp",
        "ZLQMVCywT87j",
        "SzDpHlsFT_QA",
        "735HwSYiDSf1",
        "ygzPHkE_Anaw",
        "EcEiT7Vyc6Y0",
        "I-86J6fRu0vu",
        "m1Hav_XNu6ro",
        "sFhOUq6au-xp",
        "srfZVuMKc6Y_",
        "XE1iHOqqOEmV"
      ],
      "gpuType": "T4",
      "provenance": []
    },
    "kernelspec": {
      "display_name": "Python 3",
      "name": "python3"
    },
    "language_info": {
      "codemirror_mode": {
        "name": "ipython",
        "version": 3
      },
      "file_extension": ".py",
      "mimetype": "text/x-python",
      "name": "python",
      "nbconvert_exporter": "python",
      "pygments_lexer": "ipython3",
      "version": "3.11.6"
    }
  },
  "nbformat": 4,
  "nbformat_minor": 0
}
